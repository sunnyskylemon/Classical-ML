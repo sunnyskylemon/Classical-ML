{
  "cells": [
    {
      "cell_type": "markdown",
      "metadata": {
        "id": "mqqdS2QT6MwF"
      },
      "source": [
        "# Задача регрессии\n",
        "\n",
        "В случае задач машинного обучения с учителем существует какое-то количество размеченных данных, данных, для которых определен корректный ответ и корректное предсказание. Мы пытаемся обучить нашу модель на этих данных и потом сделать предсказание на новых данных, которых мы еще не видели. Далее когда поступают новые данные, не размеченные, наша обученная модель пытается предсказать для них ответ.\n",
        "\n",
        "В этом разделе мы посмотрим на одну из задач машинного обучения с учителем - это задача регрессии.\n",
        "\n",
        "**Задача регрессии** (прогнозирования) – построение модели, способной предсказывать численную величину на основе набора признаков объекта.\n",
        "\n",
        "**Регрессия. Постановка задачи.**\n",
        "\n",
        "Есть обучающая выборка, в которой представлены объекты в виде из признакового описания (вектор признаков) и значения целевой переменной (непрерывная переменная).\n",
        "\n",
        "Алгоритм регрессии для каждого нового объекта (его признакового описания) прогнозирует значение целевой переменной.\n",
        "\n",
        "**Ответ в задачах регресии является числовым из непрерывного диапазона, в отличии от задач классификации, где ответ дискретный.**"
      ]
    },
    {
      "cell_type": "markdown",
      "metadata": {
        "id": "Z0lQiRoc57IV"
      },
      "source": [
        "# Линейная регрессия\n",
        "\n",
        "Самый простой способ посчитать регрессиию, предположить, что есть некая линейная зависимость от признаков.\n",
        "\n",
        "$$f_{w,b}(x) = wx + b$$"
      ]
    },
    {
      "cell_type": "code",
      "execution_count": 1,
      "metadata": {
        "id": "3SfhptX90Ktz"
      },
      "outputs": [],
      "source": [
        "import numpy as np\n",
        "import pandas as pd\n",
        "from sklearn.model_selection import train_test_split\n",
        "import matplotlib.pyplot as plt"
      ]
    },
    {
      "cell_type": "markdown",
      "metadata": {
        "id": "_wPBZiEN55YW"
      },
      "source": [
        "Мы ещё отдельно разберём как считать ошибки, но, упрощённо говоря, достаточно считать квадрат разности между настоящими и посчитанными значениями.\n",
        "\n",
        "$$J(w,b) = \\frac{1}{2m} \\sum_{i=1}^{m}(f_{w,b}(x^{(i)}) - y^{(i)})^2$$"
      ]
    },
    {
      "cell_type": "markdown",
      "metadata": {
        "id": "R9QMO-AZ5-5l"
      },
      "source": [
        "Подбирать параметры поможет градиентный спуск.\n",
        "\n",
        "$$w \\leftarrow w - \\alpha \\frac{\\partial J}{\\partial w}$$\n",
        "\n",
        "$$b \\leftarrow b - \\alpha \\frac{\\partial J}{\\partial b}$$"
      ]
    },
    {
      "cell_type": "markdown",
      "metadata": {
        "id": "u090WJX25wH_"
      },
      "source": [
        "Для него нужно посчитать производные ошибки по параметрам.\n",
        "\n",
        "$$\n",
        "\\frac{\\partial J(w,b)}{\\partial b} = \\frac{1}{m} \\sum_{i=0}^{m-1} (f_{w,b}(X^{(i)}) - y^{(i)})\n",
        "$$\n",
        "\n",
        "$$\n",
        "\\frac{\\partial J(w,b)}{\\partial w} = \\frac{1}{m} \\sum_{i=0}^{m-1} (f_{w,b}(X^{(i)}) - y^{(i)})X^{(i)}\n",
        "$$"
      ]
    },
    {
      "cell_type": "code",
      "execution_count": 23,
      "metadata": {
        "id": "kuaUflNi0bw_"
      },
      "outputs": [],
      "source": [
        "class LinearRegression() :\n",
        "\n",
        "    def __init__(self, learning_rate, iterations) :\n",
        "        self.learning_rate = learning_rate\n",
        "        self.iterations = iterations\n",
        "        self.w = 0.0\n",
        "        self.b = 0.0\n",
        "\n",
        "    def fit(self, X, Y) :\n",
        "        self.X = X\n",
        "        self.Y = Y\n",
        "        self.m = X.shape[0]\n",
        "\n",
        "        for i in range(self.iterations) :\n",
        "            self.update_weights()\n",
        "        # return self\n",
        "\n",
        "    def update_weights(self) :\n",
        "            Y_pred = self.w * self.X + self.b\n",
        "            error = Y_pred - self.Y\n",
        "            dw = (1 / self.m) * np.sum(error * self.X)\n",
        "            db = (1 / self.m) * np.sum(error)\n",
        "            \n",
        "            self.w -= self.learning_rate * dw\n",
        "            self.b -= self.learning_rate * db\n",
        "\n",
        "    def predict(self, X):\n",
        "            # а тут предсказание значений\n",
        "        return self.w * X + self.b"
      ]
    },
    {
      "cell_type": "code",
      "execution_count": 24,
      "metadata": {},
      "outputs": [
        {
          "name": "stdout",
          "output_type": "stream",
          "text": [
            "w = 3.001332515850539e-12\n",
            "b = 71022.49999999997\n"
          ]
        }
      ],
      "source": [
        "print(\"w =\", model.w)\n",
        "print(\"b =\", model.b)"
      ]
    },
    {
      "cell_type": "code",
      "execution_count": 26,
      "metadata": {
        "colab": {
          "base_uri": "https://localhost:8080/",
          "height": 472
        },
        "id": "ONbom1pD1Sd-",
        "outputId": "66fa26c3-2ffb-4f6e-d6be-124709a9f090"
      },
      "outputs": [
        {
          "data": {
            "image/png": "[encoded data removed]",
            "text/plain": [
              "<Figure size 640x480 with 1 Axes>"
            ]
          },
          "metadata": {},
          "output_type": "display_data"
        }
      ],
      "source": [
        "df = pd.read_csv(r\"C:\\Users\\Elena\\Documents\\2025\\МИФИ 2 сем\\Skillfactory\\Классическое маш обуч\\Лекция3-Ноут\\salary_data.csv\" )\n",
        "\n",
        "X = df.iloc[:,:-1].values\n",
        "Y = df.iloc[:,1].values\n",
        "\n",
        "X_train, X_test, Y_train, Y_test = train_test_split(X, Y, test_size = 1/3, random_state = 0 )\n",
        "\n",
        "# Нормализация\n",
        "X_mean = X_train.mean()\n",
        "X_std = X_train.std()\n",
        "X_train_norm = ((X_train - X_mean) / X_std).flatten()\n",
        "X_test_norm = ((X_test - X_mean) / X_std).flatten()\n",
        "\n",
        "model = LinearRegression(iterations = 1000, learning_rate = 0.01)\n",
        "model.fit(X_train_norm, Y_train)\n",
        "\n",
        "Y_pred = model.predict(X_test_norm)\n",
        "\n",
        "plt.scatter(X_test, Y_test, color = 'blue')\n",
        "plt.plot(X_test, Y_pred, color = 'orange')\n",
        "plt.title('Зависимость зарплаты от опыта')\n",
        "plt.xlabel('Число лет опыта')\n",
        "plt.ylabel('Зарплата')\n",
        "\n",
        "plt.show()"
      ]
    },
    {
      "cell_type": "code",
      "execution_count": 27,
      "metadata": {},
      "outputs": [
        {
          "name": "stdout",
          "output_type": "stream",
          "text": [
            "R² на тестовой выборке: 0.9749\n"
          ]
        }
      ],
      "source": [
        "from sklearn.metrics import r2_score\n",
        "\n",
        "r2 = r2_score(Y_test, Y_pred)\n",
        "print(f\"R² на тестовой выборке: {r2:.4f}\")"
      ]
    }
  ],
  "metadata": {
    "colab": {
      "provenance": []
    },
    "kernelspec": {
      "display_name": "Python 3",
      "name": "python3"
    },
    "language_info": {
      "codemirror_mode": {
        "name": "ipython",
        "version": 3
      },
      "file_extension": ".py",
      "mimetype": "text/x-python",
      "name": "python",
      "nbconvert_exporter": "python",
      "pygments_lexer": "ipython3",
      "version": "3.12.4"
    }
  },
  "nbformat": 4,
  "nbformat_minor": 0
}
