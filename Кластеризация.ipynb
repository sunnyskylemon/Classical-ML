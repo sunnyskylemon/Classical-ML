{
 "cells": [
  {
   "cell_type": "code",
   "execution_count": 15,
   "id": "10287424",
   "metadata": {},
   "outputs": [
    {
     "name": "stdout",
     "output_type": "stream",
     "text": [
      "Requirement already satisfied: polars in c:\\users\\dimac\\anaconda3\\lib\\site-packages (1.9.0)\n"
     ]
    }
   ],
   "source": [
    "!pip install polars"
   ]
  },
  {
   "cell_type": "code",
   "execution_count": 16,
   "id": "630d797a",
   "metadata": {},
   "outputs": [],
   "source": [
    "import pandas as pd\n",
    "import polars as pl\n",
    "import matplotlib.pyplot as plt\n",
    "from sklearn.metrics import silhouette_score\n"
   ]
  },
  {
   "cell_type": "code",
   "execution_count": 17,
   "id": "67e52099",
   "metadata": {},
   "outputs": [],
   "source": [
    "df = pl.scan_csv('data/Physical_Activity_Monitoring_unlabeled.csv')"
   ]
  },
  {
   "cell_type": "code",
   "execution_count": 18,
   "id": "8853f03c",
   "metadata": {},
   "outputs": [
    {
     "data": {
      "text/html": [
       "<div><style>\n",
       ".dataframe > thead > tr,\n",
       ".dataframe > tbody > tr {\n",
       "  text-align: right;\n",
       "  white-space: pre-wrap;\n",
       "}\n",
       "</style>\n",
       "<small>shape: (10, 53)</small><table border=\"1\" class=\"dataframe\"><thead><tr><th>timestamp</th><th>handTemperature</th><th>handAcc16_1</th><th>handAcc16_2</th><th>handAcc16_3</th><th>handAcc6_1</th><th>handAcc6_2</th><th>handAcc6_3</th><th>handGyro1</th><th>handGyro2</th><th>handGyro3</th><th>handMagne1</th><th>handMagne2</th><th>handMagne3</th><th>handOrientation1</th><th>handOrientation2</th><th>handOrientation3</th><th>handOrientation4</th><th>chestTemperature</th><th>chestAcc16_1</th><th>chestAcc16_2</th><th>chestAcc16_3</th><th>chestAcc6_1</th><th>chestAcc6_2</th><th>chestAcc6_3</th><th>chestGyro1</th><th>chestGyro2</th><th>chestGyro3</th><th>chestMagne1</th><th>chestMagne2</th><th>chestMagne3</th><th>chestOrientation1</th><th>chestOrientation2</th><th>chestOrientation3</th><th>chestOrientation4</th><th>ankleTemperature</th><th>ankleAcc16_1</th><th>ankleAcc16_2</th><th>ankleAcc16_3</th><th>ankleAcc6_1</th><th>ankleAcc6_2</th><th>ankleAcc6_3</th><th>ankleGyro1</th><th>ankleGyro2</th><th>ankleGyro3</th><th>ankleMagne1</th><th>ankleMagne2</th><th>ankleMagne3</th><th>ankleOrientation1</th><th>ankleOrientation2</th><th>ankleOrientation3</th><th>ankleOrientation4</th><th>subject_id</th></tr><tr><td>f64</td><td>f64</td><td>f64</td><td>f64</td><td>f64</td><td>f64</td><td>f64</td><td>f64</td><td>f64</td><td>f64</td><td>f64</td><td>f64</td><td>f64</td><td>f64</td><td>f64</td><td>f64</td><td>f64</td><td>f64</td><td>f64</td><td>f64</td><td>f64</td><td>f64</td><td>f64</td><td>f64</td><td>f64</td><td>f64</td><td>f64</td><td>f64</td><td>f64</td><td>f64</td><td>f64</td><td>f64</td><td>f64</td><td>f64</td><td>f64</td><td>f64</td><td>f64</td><td>f64</td><td>f64</td><td>f64</td><td>f64</td><td>f64</td><td>f64</td><td>f64</td><td>f64</td><td>f64</td><td>f64</td><td>f64</td><td>f64</td><td>f64</td><td>f64</td><td>f64</td><td>i64</td></tr></thead><tbody><tr><td>252.75</td><td>34.875</td><td>0.902847</td><td>7.45872</td><td>6.03249</td><td>1.0061</td><td>7.44575</td><td>6.30365</td><td>-0.021952</td><td>0.004114</td><td>-0.000752</td><td>-9.99538</td><td>7.2291</td><td>-32.1399</td><td>0.561813</td><td>-0.218644</td><td>0.359836</td><td>0.712095</td><td>36.625</td><td>-0.106754</td><td>1.66721</td><td>9.32797</td><td>-0.292054</td><td>1.56048</td><td>9.74926</td><td>-0.019807</td><td>-0.034096</td><td>0.003963</td><td>39.5466</td><td>5.5805</td><td>-27.966</td><td>0.987675</td><td>-0.081231</td><td>-0.009229</td><td>0.133472</td><td>34.125</td><td>-0.458486</td><td>-9.07442</td><td>-4.47955</td><td>-0.318531</td><td>-8.89907</td><td>-4.13847</td><td>0.0439539</td><td>-0.025606</td><td>0.0302387</td><td>-14.5447</td><td>27.3336</td><td>-5.7662</td><td>0.206416</td><td>0.348212</td><td>0.763201</td><td>-0.503652</td><td>5</td></tr><tr><td>3652.45</td><td>29.75</td><td>-4.06933</td><td>3.76168</td><td>8.27972</td><td>-5.9725</td><td>3.22273</td><td>6.90897</td><td>0.116054</td><td>-0.375968</td><td>-0.01289</td><td>40.4558</td><td>-1.19692</td><td>-37.5552</td><td>0.884964</td><td>-0.281047</td><td>-0.145657</td><td>0.341518</td><td>34.6875</td><td>0.0697556</td><td>2.61466</td><td>-11.891</td><td>-0.139514</td><td>2.40386</td><td>-10.9686</td><td>0.299329</td><td>0.272314</td><td>0.249314</td><td>17.4295</td><td>2.61508</td><td>39.3298</td><td>0.155581</td><td>-0.908072</td><td>-0.388069</td><td>-0.024528</td><td>33.625</td><td>6.03534</td><td>2.78717</td><td>-2.05542</td><td>6.39719</td><td>4.93016</td><td>-1.31267</td><td>-0.319186</td><td>-0.670163</td><td>1.7862</td><td>-32.8257</td><td>-15.7719</td><td>-1.31395</td><td>0.578332</td><td>-0.566734</td><td>0.405888</td><td>-0.423791</td><td>2</td></tr><tr><td>504.76</td><td>34.375</td><td>-2.00754</td><td>-9.6018</td><td>0.773674</td><td>-1.8035</td><td>-9.58937</td><td>1.07368</td><td>0.0201311</td><td>0.0421891</td><td>-0.011507</td><td>7.26741</td><td>24.4379</td><td>-14.3005</td><td>0.535655</td><td>0.564385</td><td>0.371967</td><td>-0.506146</td><td>37.625</td><td>0.326521</td><td>9.81131</td><td>0.0163223</td><td>0.26123</td><td>9.78271</td><td>0.460448</td><td>0.009436</td><td>-0.015007</td><td>-0.037835</td><td>5.6352</td><td>-25.822</td><td>-3.77094</td><td>0.721119</td><td>-0.680477</td><td>0.0903025</td><td>0.0937211</td><td>33.9375</td><td>9.23875</td><td>2.80925</td><td>-2.56296</td><td>9.14233</td><td>2.91815</td><td>-2.12294</td><td>0.0656542</td><td>-0.009741</td><td>-0.006579</td><td>-18.8171</td><td>16.3089</td><td>25.2928</td><td>0.139776</td><td>0.676586</td><td>0.393796</td><td>0.606316</td><td>8</td></tr><tr><td>2801.61</td><td>31.9375</td><td>-13.2622</td><td>5.85443</td><td>0.899334</td><td>-13.6115</td><td>5.91511</td><td>0.840377</td><td>1.71563</td><td>-0.050492</td><td>-1.829</td><td>46.4822</td><td>-7.83916</td><td>-13.6242</td><td>0.648205</td><td>0.540984</td><td>-0.28256</td><td>-0.455332</td><td>36.5</td><td>2.12746</td><td>8.91873</td><td>-8.58292</td><td>2.37262</td><td>9.7302</td><td>-8.65023</td><td>0.0781086</td><td>-0.099471</td><td>0.488145</td><td>-1.19466</td><td>-38.6897</td><td>5.28249</td><td>0.367155</td><td>-0.663333</td><td>0.553109</td><td>0.345336</td><td>34.5625</td><td>13.54</td><td>3.08224</td><td>2.57328</td><td>18.0863</td><td>1.82221</td><td>2.91851</td><td>2.97001</td><td>-0.16347</td><td>-3.49557</td><td>-26.7418</td><td>34.3566</td><td>21.3274</td><td>0.416303</td><td>0.783387</td><td>0.306464</td><td>0.345075</td><td>2</td></tr><tr><td>441.01</td><td>33.5</td><td>-0.01394</td><td>8.6654</td><td>4.39821</td><td>0.144153</td><td>8.56816</td><td>4.8222</td><td>-0.006938</td><td>-0.007383</td><td>-0.032679</td><td>3.97764</td><td>-22.4232</td><td>-20.1775</td><td>0.769041</td><td>-0.442364</td><td>0.232331</td><td>0.398638</td><td>35.8125</td><td>0.648395</td><td>9.73894</td><td>0.603203</td><td>0.519639</td><td>9.79662</td><td>0.897193</td><td>0.003127</td><td>-0.015282</td><td>-0.06141</td><td>4.60037</td><td>-25.655</td><td>-3.63808</td><td>0.735751</td><td>-0.666812</td><td>0.086031</td><td>0.0814302</td><td>34.6875</td><td>9.55177</td><td>-0.494227</td><td>-2.77079</td><td>9.5455</td><td>-0.394571</td><td>-2.47767</td><td>0.0139526</td><td>-0.028172</td><td>-0.003737</td><td>-17.7798</td><td>-3.9981</td><td>10.995</td><td>0.171133</td><td>-0.748343</td><td>0.252988</td><td>-0.588807</td><td>6</td></tr><tr><td>2407.75</td><td>32.25</td><td>-11.2486</td><td>4.70549</td><td>1.47219</td><td>-10.4374</td><td>4.45819</td><td>1.59536</td><td>1.37628</td><td>1.62911</td><td>-2.77106</td><td>35.4523</td><td>-33.6593</td><td>-20.9605</td><td>0.199763</td><td>0.512604</td><td>-0.394729</td><td>-0.735881</td><td>36.625</td><td>0.672162</td><td>10.216</td><td>-1.2178</td><td>-0.353022</td><td>9.33357</td><td>-1.16931</td><td>0.477854</td><td>-0.374119</td><td>-0.030835</td><td>-5.3361</td><td>-39.8521</td><td>-12.5099</td><td>0.34798</td><td>-0.39305</td><td>0.601259</td><td>0.602419</td><td>34.9375</td><td>2.86347</td><td>-2.59514</td><td>-0.742501</td><td>3.8439</td><td>-1.37686</td><td>-0.749085</td><td>-2.16663</td><td>0.395789</td><td>-0.734158</td><td>-37.23</td><td>-17.6606</td><td>25.9766</td><td>0.0816376</td><td>-0.564666</td><td>-0.465628</td><td>-0.676519</td><td>6</td></tr><tr><td>288.18</td><td>33.8125</td><td>-9.00348</td><td>3.48025</td><td>2.20273</td><td>-8.78106</td><td>3.45025</td><td>2.42642</td><td>0.29149</td><td>-0.142762</td><td>-0.277982</td><td>46.0534</td><td>-0.5136</td><td>2.54593</td><td>0.755744</td><td>-0.325815</td><td>-0.516071</td><td>0.237417</td><td>37.1875</td><td>0.554952</td><td>9.41673</td><td>-2.53384</td><td>0.439262</td><td>9.43874</td><td>-2.11077</td><td>0.002726</td><td>-0.119148</td><td>-0.003113</td><td>-0.836677</td><td>-27.7545</td><td>30.0634</td><td>0.429579</td><td>-0.571943</td><td>-0.540254</td><td>-0.443248</td><td>34.625</td><td>9.64597</td><td>-1.22285</td><td>-1.95492</td><td>9.68513</td><td>-1.22504</td><td>-1.35574</td><td>-0.022248</td><td>0.009919</td><td>0.0162183</td><td>-61.3576</td><td>-33.9092</td><td>-13.7757</td><td>0.542814</td><td>-0.366369</td><td>0.626705</td><td>-0.422336</td><td>2</td></tr><tr><td>2926.96</td><td>31.8125</td><td>-1.18327</td><td>4.29157</td><td>6.43528</td><td>-1.33884</td><td>5.22864</td><td>7.48877</td><td>-0.100648</td><td>0.209315</td><td>0.150239</td><td>-13.5329</td><td>-30.5587</td><td>-57.853</td><td>1.0</td><td>0.0</td><td>0.0</td><td>0.0</td><td>36.4375</td><td>1.03135</td><td>5.20757</td><td>-6.65467</td><td>0.77912</td><td>5.30829</td><td>-6.311</td><td>0.359139</td><td>0.324683</td><td>-0.606432</td><td>1.57477</td><td>-57.6891</td><td>32.1434</td><td>1.0</td><td>0.0</td><td>0.0</td><td>0.0</td><td>33.875</td><td>12.4383</td><td>4.19072</td><td>-2.15283</td><td>9.68959</td><td>4.47792</td><td>-0.677887</td><td>0.0511272</td><td>0.0579454</td><td>0.394188</td><td>-63.8337</td><td>14.4617</td><td>14.4869</td><td>1.0</td><td>0.0</td><td>0.0</td><td>0.0</td><td>1</td></tr><tr><td>738.33</td><td>34.5625</td><td>-8.87578</td><td>-5.29485</td><td>1.1566</td><td>-8.60698</td><td>-5.44707</td><td>1.56989</td><td>-0.276623</td><td>-0.353238</td><td>0.840874</td><td>43.1165</td><td>5.02299</td><td>-19.6358</td><td>0.38686</td><td>0.668416</td><td>-0.096557</td><td>-0.627882</td><td>37.5625</td><td>-0.779648</td><td>9.92747</td><td>-0.042816</td><td>-0.91133</td><td>9.87589</td><td>0.482908</td><td>-0.115359</td><td>0.358244</td><td>0.219306</td><td>-2.90443</td><td>-37.7647</td><td>2.01863</td><td>0.222424</td><td>-0.15324</td><td>-0.673878</td><td>-0.687701</td><td>34.25</td><td>9.15199</td><td>-0.10414</td><td>-3.74205</td><td>9.24135</td><td>-0.153751</td><td>-3.38495</td><td>0.113362</td><td>0.0169603</td><td>-0.009354</td><td>-37.2116</td><td>-2.25659</td><td>10.9246</td><td>0.146531</td><td>-0.810946</td><td>0.130713</td><td>-0.551189</td><td>8</td></tr><tr><td>2934.54</td><td>31.75</td><td>-6.03398</td><td>6.36204</td><td>8.81883</td><td>-2.93941</td><td>6.99344</td><td>8.96641</td><td>0.124129</td><td>-0.30142</td><td>-0.013721</td><td>53.651</td><td>-8.96591</td><td>-51.446</td><td>1.0</td><td>0.0</td><td>0.0</td><td>0.0</td><td>36.375</td><td>0.548167</td><td>8.12085</td><td>-10.3901</td><td>0.206102</td><td>8.9527</td><td>-10.4227</td><td>1.52156</td><td>-0.238826</td><td>-0.216137</td><td>19.9771</td><td>-10.1183</td><td>66.0732</td><td>1.0</td><td>0.0</td><td>0.0</td><td>0.0</td><td>33.875</td><td>14.9983</td><td>3.25757</td><td>-1.42617</td><td>19.3288</td><td>6.71686</td><td>-2.08332</td><td>-0.117164</td><td>0.179439</td><td>-1.36965</td><td>-60.5519</td><td>-36.3093</td><td>-1.18247</td><td>1.0</td><td>0.0</td><td>0.0</td><td>0.0</td><td>1</td></tr></tbody></table></div>"
      ],
      "text/plain": [
       "shape: (10, 53)\n",
       "┌───────────┬───────────┬───────────┬───────────┬───┬───────────┬───────────┬───────────┬──────────┐\n",
       "│ timestamp ┆ handTempe ┆ handAcc16 ┆ handAcc16 ┆ … ┆ ankleOrie ┆ ankleOrie ┆ ankleOrie ┆ subject_ │\n",
       "│ ---       ┆ rature    ┆ _1        ┆ _2        ┆   ┆ ntation2  ┆ ntation3  ┆ ntation4  ┆ id       │\n",
       "│ f64       ┆ ---       ┆ ---       ┆ ---       ┆   ┆ ---       ┆ ---       ┆ ---       ┆ ---      │\n",
       "│           ┆ f64       ┆ f64       ┆ f64       ┆   ┆ f64       ┆ f64       ┆ f64       ┆ i64      │\n",
       "╞═══════════╪═══════════╪═══════════╪═══════════╪═══╪═══════════╪═══════════╪═══════════╪══════════╡\n",
       "│ 252.75    ┆ 34.875    ┆ 0.902847  ┆ 7.45872   ┆ … ┆ 0.348212  ┆ 0.763201  ┆ -0.503652 ┆ 5        │\n",
       "│ 3652.45   ┆ 29.75     ┆ -4.06933  ┆ 3.76168   ┆ … ┆ -0.566734 ┆ 0.405888  ┆ -0.423791 ┆ 2        │\n",
       "│ 504.76    ┆ 34.375    ┆ -2.00754  ┆ -9.6018   ┆ … ┆ 0.676586  ┆ 0.393796  ┆ 0.606316  ┆ 8        │\n",
       "│ 2801.61   ┆ 31.9375   ┆ -13.2622  ┆ 5.85443   ┆ … ┆ 0.783387  ┆ 0.306464  ┆ 0.345075  ┆ 2        │\n",
       "│ 441.01    ┆ 33.5      ┆ -0.01394  ┆ 8.6654    ┆ … ┆ -0.748343 ┆ 0.252988  ┆ -0.588807 ┆ 6        │\n",
       "│ 2407.75   ┆ 32.25     ┆ -11.2486  ┆ 4.70549   ┆ … ┆ -0.564666 ┆ -0.465628 ┆ -0.676519 ┆ 6        │\n",
       "│ 288.18    ┆ 33.8125   ┆ -9.00348  ┆ 3.48025   ┆ … ┆ -0.366369 ┆ 0.626705  ┆ -0.422336 ┆ 2        │\n",
       "│ 2926.96   ┆ 31.8125   ┆ -1.18327  ┆ 4.29157   ┆ … ┆ 0.0       ┆ 0.0       ┆ 0.0       ┆ 1        │\n",
       "│ 738.33    ┆ 34.5625   ┆ -8.87578  ┆ -5.29485  ┆ … ┆ -0.810946 ┆ 0.130713  ┆ -0.551189 ┆ 8        │\n",
       "│ 2934.54   ┆ 31.75     ┆ -6.03398  ┆ 6.36204   ┆ … ┆ 0.0       ┆ 0.0       ┆ 0.0       ┆ 1        │\n",
       "└───────────┴───────────┴───────────┴───────────┴───┴───────────┴───────────┴───────────┴──────────┘"
      ]
     },
     "execution_count": 18,
     "metadata": {},
     "output_type": "execute_result"
    }
   ],
   "source": [
    "df.head(10).collect()"
   ]
  },
  {
   "cell_type": "code",
   "execution_count": 19,
   "id": "a0b33af7",
   "metadata": {},
   "outputs": [
    {
     "data": {
      "text/html": [
       "<div><style>\n",
       ".dataframe > thead > tr,\n",
       ".dataframe > tbody > tr {\n",
       "  text-align: right;\n",
       "  white-space: pre-wrap;\n",
       "}\n",
       "</style>\n",
       "<small>shape: (9, 54)</small><table border=\"1\" class=\"dataframe\"><thead><tr><th>statistic</th><th>timestamp</th><th>handTemperature</th><th>handAcc16_1</th><th>handAcc16_2</th><th>handAcc16_3</th><th>handAcc6_1</th><th>handAcc6_2</th><th>handAcc6_3</th><th>handGyro1</th><th>handGyro2</th><th>handGyro3</th><th>handMagne1</th><th>handMagne2</th><th>handMagne3</th><th>handOrientation1</th><th>handOrientation2</th><th>handOrientation3</th><th>handOrientation4</th><th>chestTemperature</th><th>chestAcc16_1</th><th>chestAcc16_2</th><th>chestAcc16_3</th><th>chestAcc6_1</th><th>chestAcc6_2</th><th>chestAcc6_3</th><th>chestGyro1</th><th>chestGyro2</th><th>chestGyro3</th><th>chestMagne1</th><th>chestMagne2</th><th>chestMagne3</th><th>chestOrientation1</th><th>chestOrientation2</th><th>chestOrientation3</th><th>chestOrientation4</th><th>ankleTemperature</th><th>ankleAcc16_1</th><th>ankleAcc16_2</th><th>ankleAcc16_3</th><th>ankleAcc6_1</th><th>ankleAcc6_2</th><th>ankleAcc6_3</th><th>ankleGyro1</th><th>ankleGyro2</th><th>ankleGyro3</th><th>ankleMagne1</th><th>ankleMagne2</th><th>ankleMagne3</th><th>ankleOrientation1</th><th>ankleOrientation2</th><th>ankleOrientation3</th><th>ankleOrientation4</th><th>subject_id</th></tr><tr><td>str</td><td>f64</td><td>f64</td><td>f64</td><td>f64</td><td>f64</td><td>f64</td><td>f64</td><td>f64</td><td>f64</td><td>f64</td><td>f64</td><td>f64</td><td>f64</td><td>f64</td><td>f64</td><td>f64</td><td>f64</td><td>f64</td><td>f64</td><td>f64</td><td>f64</td><td>f64</td><td>f64</td><td>f64</td><td>f64</td><td>f64</td><td>f64</td><td>f64</td><td>f64</td><td>f64</td><td>f64</td><td>f64</td><td>f64</td><td>f64</td><td>f64</td><td>f64</td><td>f64</td><td>f64</td><td>f64</td><td>f64</td><td>f64</td><td>f64</td><td>f64</td><td>f64</td><td>f64</td><td>f64</td><td>f64</td><td>f64</td><td>f64</td><td>f64</td><td>f64</td><td>f64</td><td>f64</td></tr></thead><tbody><tr><td>&quot;count&quot;</td><td>534601.0</td><td>530560.0</td><td>530560.0</td><td>530560.0</td><td>530560.0</td><td>530560.0</td><td>530560.0</td><td>530560.0</td><td>530560.0</td><td>530560.0</td><td>530560.0</td><td>530560.0</td><td>530560.0</td><td>530560.0</td><td>530560.0</td><td>530560.0</td><td>530560.0</td><td>530560.0</td><td>533792.0</td><td>533792.0</td><td>533792.0</td><td>533792.0</td><td>533792.0</td><td>533792.0</td><td>533792.0</td><td>533792.0</td><td>533792.0</td><td>533792.0</td><td>533792.0</td><td>533792.0</td><td>533792.0</td><td>533792.0</td><td>533792.0</td><td>533792.0</td><td>533792.0</td><td>532055.0</td><td>532055.0</td><td>532055.0</td><td>532055.0</td><td>532055.0</td><td>532055.0</td><td>532055.0</td><td>532055.0</td><td>532055.0</td><td>532055.0</td><td>532055.0</td><td>532055.0</td><td>532055.0</td><td>532055.0</td><td>532055.0</td><td>532055.0</td><td>532055.0</td><td>534601.0</td></tr><tr><td>&quot;null_count&quot;</td><td>0.0</td><td>4041.0</td><td>4041.0</td><td>4041.0</td><td>4041.0</td><td>4041.0</td><td>4041.0</td><td>4041.0</td><td>4041.0</td><td>4041.0</td><td>4041.0</td><td>4041.0</td><td>4041.0</td><td>4041.0</td><td>4041.0</td><td>4041.0</td><td>4041.0</td><td>4041.0</td><td>809.0</td><td>809.0</td><td>809.0</td><td>809.0</td><td>809.0</td><td>809.0</td><td>809.0</td><td>809.0</td><td>809.0</td><td>809.0</td><td>809.0</td><td>809.0</td><td>809.0</td><td>809.0</td><td>809.0</td><td>809.0</td><td>809.0</td><td>2546.0</td><td>2546.0</td><td>2546.0</td><td>2546.0</td><td>2546.0</td><td>2546.0</td><td>2546.0</td><td>2546.0</td><td>2546.0</td><td>2546.0</td><td>2546.0</td><td>2546.0</td><td>2546.0</td><td>2546.0</td><td>2546.0</td><td>2546.0</td><td>2546.0</td><td>0.0</td></tr><tr><td>&quot;mean&quot;</td><td>1593.538159</td><td>32.451221</td><td>-4.435286</td><td>3.241949</td><td>4.079375</td><td>-4.375896</td><td>3.21825</td><td>4.262513</td><td>-0.008852</td><td>0.028801</td><td>0.000015</td><td>20.396467</td><td>-10.372369</td><td>-24.587815</td><td>0.618039</td><td>-0.003404</td><td>-0.09793</td><td>-0.069672</td><td>35.869356</td><td>0.504332</td><td>7.646658</td><td>-0.187075</td><td>0.36348</td><td>7.654198</td><td>0.1419</td><td>0.004679</td><td>0.021363</td><td>-0.024228</td><td>7.013223</td><td>-26.329538</td><td>1.213141</td><td>0.601851</td><td>-0.383544</td><td>0.066474</td><td>0.072854</td><td>33.493061</td><td>8.604628</td><td>-0.67142</td><td>-2.718494</td><td>8.560964</td><td>-0.558241</td><td>-2.309876</td><td>0.017766</td><td>-0.031911</td><td>0.002304</td><td>-28.756284</td><td>2.115624</td><td>14.723345</td><td>0.360159</td><td>-0.091093</td><td>0.303517</td><td>-0.173845</td><td>4.558615</td></tr><tr><td>&quot;std&quot;</td><td>1243.906483</td><td>1.754847</td><td>7.062004</td><td>7.224031</td><td>3.831257</td><td>7.068961</td><td>6.864782</td><td>3.822053</td><td>1.160112</td><td>0.926832</td><td>1.616437</td><td>23.942593</td><td>22.044342</td><td>17.658619</td><td>0.296602</td><td>0.357215</td><td>0.316885</td><td>0.536265</td><td>1.50464</td><td>1.536747</td><td>4.813007</td><td>5.358383</td><td>1.5292</td><td>4.825198</td><td>5.358863</td><td>0.3965</td><td>0.52551</td><td>0.303287</td><td>17.180325</td><td>19.731347</td><td>24.234586</td><td>0.302357</td><td>0.284891</td><td>0.433233</td><td>0.347375</td><td>1.083949</td><td>7.056299</td><td>7.803236</td><td>3.969057</td><td>6.456356</td><td>7.459842</td><td>3.410263</td><td>0.959369</td><td>0.61884</td><td>2.036102</td><td>19.303887</td><td>22.25317</td><td>17.907491</td><td>0.301254</td><td>0.5594</td><td>0.344271</td><td>0.466304</td><td>2.318076</td></tr><tr><td>&quot;min&quot;</td><td>37.66</td><td>27.5</td><td>-114.755</td><td>-82.5509</td><td>-73.9497</td><td>-61.2147</td><td>-61.8242</td><td>-61.5771</td><td>-19.6905</td><td>-7.60901</td><td>-14.2647</td><td>-74.6</td><td>-199.52</td><td>-163.766</td><td>0.000003</td><td>-0.998944</td><td>-0.966679</td><td>-0.999186</td><td>32.0625</td><td>-39.2034</td><td>-17.0678</td><td>-37.7546</td><td>-34.204</td><td>-17.4628</td><td>-37.028</td><td>-4.47776</td><td>-4.92635</td><td>-3.97186</td><td>-49.9854</td><td>-122.343</td><td>-66.6847</td><td>0.00001</td><td>-0.995404</td><td>-0.998015</td><td>-0.85988</td><td>30.0</td><td>-82.9011</td><td>-141.035</td><td>-156.179</td><td>-58.4299</td><td>-61.8986</td><td>-62.2729</td><td>-10.0935</td><td>-7.70104</td><td>-14.0196</td><td>-172.865</td><td>-136.951</td><td>-102.716</td><td>0.000003</td><td>-0.954848</td><td>-0.876838</td><td>-0.99704</td><td>1.0</td></tr><tr><td>&quot;25%&quot;</td><td>475.5</td><td>31.3125</td><td>-9.07636</td><td>0.682785</td><td>1.58878</td><td>-8.98107</td><td>0.68759</td><td>1.78016</td><td>-0.153181</td><td>-0.083315</td><td>-0.089234</td><td>4.85443</td><td>-23.6407</td><td>-37.4486</td><td>0.385056</td><td>-0.266248</td><td>-0.349762</td><td>-0.575945</td><td>34.6875</td><td>-0.144123</td><td>4.57612</td><td>-3.52392</td><td>-0.263469</td><td>4.55002</td><td>-3.1875</td><td>-0.058895</td><td>-0.057256</td><td>-0.077364</td><td>-4.54805</td><td>-38.3977</td><td>-13.9654</td><td>0.361107</td><td>-0.622015</td><td>-0.258381</td><td>-0.078236</td><td>32.75</td><td>5.05011</td><td>-3.3879</td><td>-4.01685</td><td>5.01853</td><td>-3.31337</td><td>-3.6003</td><td>-0.068055</td><td>-0.049003</td><td>-0.221902</td><td>-39.6899</td><td>-10.9608</td><td>2.2525</td><td>0.145024</td><td>-0.676391</td><td>0.006839</td><td>-0.580039</td><td>2.0</td></tr><tr><td>&quot;50%&quot;</td><td>827.61</td><td>32.875</td><td>-5.46558</td><td>3.08921</td><td>4.15713</td><td>-5.43483</td><td>3.12716</td><td>4.41365</td><td>-0.004438</td><td>0.004013</td><td>-0.004642</td><td>22.2559</td><td>-12.8641</td><td>-24.5041</td><td>0.647128</td><td>0.0</td><td>-0.089283</td><td>0.0</td><td>35.9375</td><td>0.555578</td><td>9.19302</td><td>-0.258403</td><td>0.412374</td><td>9.14211</td><td>0.0920812</td><td>0.00277</td><td>0.000073</td><td>-0.017051</td><td>3.87517</td><td>-28.3385</td><td>-2.07687</td><td>0.58578</td><td>-0.444903</td><td>0.0384798</td><td>0.0936177</td><td>33.8125</td><td>9.38418</td><td>-0.484184</td><td>-2.54447</td><td>9.41045</td><td>-0.409235</td><td>-2.12277</td><td>0.007304</td><td>-0.004481</td><td>0.000354</td><td>-26.2856</td><td>-0.014372</td><td>16.5995</td><td>0.240996</td><td>0.0</td><td>0.322698</td><td>-0.281681</td><td>5.0</td></tr><tr><td>&quot;75%&quot;</td><td>2876.99</td><td>33.8125</td><td>0.383675</td><td>5.55974</td><td>6.86421</td><td>0.424743</td><td>5.59215</td><td>7.14817</td><td>0.13031</td><td>0.0943416</td><td>0.123871</td><td>39.1107</td><td>5.91835</td><td>-12.8101</td><td>0.897342</td><td>0.243097</td><td>0.179635</td><td>0.350913</td><td>37.1875</td><td>1.05216</td><td>9.76344</td><td>1.34703</td><td>0.898179</td><td>9.78239</td><td>1.73901</td><td>0.0631836</td><td>0.0780053</td><td>0.0279528</td><td>15.8286</td><td>-19.0392</td><td>18.1828</td><td>0.980664</td><td>-0.104584</td><td>0.476847</td><td>0.334432</td><td>34.375</td><td>9.99199</td><td>1.92791</td><td>-1.07496</td><td>9.99018</td><td>2.07217</td><td>-0.637409</td><td>0.0604754</td><td>0.0489723</td><td>0.0326491</td><td>-14.5495</td><td>19.2459</td><td>25.9471</td><td>0.501671</td><td>0.410052</td><td>0.594199</td><td>0.252249</td><td>7.0</td></tr><tr><td>&quot;max&quot;</td><td>4007.73</td><td>35.25</td><td>60.9126</td><td>155.532</td><td>78.4801</td><td>34.1594</td><td>62.2598</td><td>60.8437</td><td>22.96</td><td>11.8626</td><td>14.3267</td><td>128.824</td><td>93.0448</td><td>90.1855</td><td>1.0</td><td>0.99937</td><td>0.976406</td><td>0.998495</td><td>38.4375</td><td>27.5223</td><td>56.0208</td><td>20.4775</td><td>25.7361</td><td>51.1915</td><td>15.0762</td><td>10.8644</td><td>5.90579</td><td>3.05259</td><td>80.4739</td><td>40.0255</td><td>96.1022</td><td>1.0</td><td>0.823245</td><td>0.99529</td><td>0.827296</td><td>35.0</td><td>157.232</td><td>149.22</td><td>158.872</td><td>61.9449</td><td>62.0348</td><td>44.2312</td><td>12.256</td><td>6.00254</td><td>14.4827</td><td>41.7648</td><td>92.867</td><td>122.521</td><td>1.0</td><td>0.959538</td><td>0.920506</td><td>0.996105</td><td>8.0</td></tr></tbody></table></div>"
      ],
      "text/plain": [
       "shape: (9, 54)\n",
       "┌───────────┬───────────┬───────────┬───────────┬───┬───────────┬───────────┬───────────┬──────────┐\n",
       "│ statistic ┆ timestamp ┆ handTempe ┆ handAcc16 ┆ … ┆ ankleOrie ┆ ankleOrie ┆ ankleOrie ┆ subject_ │\n",
       "│ ---       ┆ ---       ┆ rature    ┆ _1        ┆   ┆ ntation2  ┆ ntation3  ┆ ntation4  ┆ id       │\n",
       "│ str       ┆ f64       ┆ ---       ┆ ---       ┆   ┆ ---       ┆ ---       ┆ ---       ┆ ---      │\n",
       "│           ┆           ┆ f64       ┆ f64       ┆   ┆ f64       ┆ f64       ┆ f64       ┆ f64      │\n",
       "╞═══════════╪═══════════╪═══════════╪═══════════╪═══╪═══════════╪═══════════╪═══════════╪══════════╡\n",
       "│ count     ┆ 534601.0  ┆ 530560.0  ┆ 530560.0  ┆ … ┆ 532055.0  ┆ 532055.0  ┆ 532055.0  ┆ 534601.0 │\n",
       "│ null_coun ┆ 0.0       ┆ 4041.0    ┆ 4041.0    ┆ … ┆ 2546.0    ┆ 2546.0    ┆ 2546.0    ┆ 0.0      │\n",
       "│ t         ┆           ┆           ┆           ┆   ┆           ┆           ┆           ┆          │\n",
       "│ mean      ┆ 1593.5381 ┆ 32.451221 ┆ -4.435286 ┆ … ┆ -0.091093 ┆ 0.303517  ┆ -0.173845 ┆ 4.558615 │\n",
       "│           ┆ 59        ┆           ┆           ┆   ┆           ┆           ┆           ┆          │\n",
       "│ std       ┆ 1243.9064 ┆ 1.754847  ┆ 7.062004  ┆ … ┆ 0.5594    ┆ 0.344271  ┆ 0.466304  ┆ 2.318076 │\n",
       "│           ┆ 83        ┆           ┆           ┆   ┆           ┆           ┆           ┆          │\n",
       "│ min       ┆ 37.66     ┆ 27.5      ┆ -114.755  ┆ … ┆ -0.954848 ┆ -0.876838 ┆ -0.99704  ┆ 1.0      │\n",
       "│ 25%       ┆ 475.5     ┆ 31.3125   ┆ -9.07636  ┆ … ┆ -0.676391 ┆ 0.006839  ┆ -0.580039 ┆ 2.0      │\n",
       "│ 50%       ┆ 827.61    ┆ 32.875    ┆ -5.46558  ┆ … ┆ 0.0       ┆ 0.322698  ┆ -0.281681 ┆ 5.0      │\n",
       "│ 75%       ┆ 2876.99   ┆ 33.8125   ┆ 0.383675  ┆ … ┆ 0.410052  ┆ 0.594199  ┆ 0.252249  ┆ 7.0      │\n",
       "│ max       ┆ 4007.73   ┆ 35.25     ┆ 60.9126   ┆ … ┆ 0.959538  ┆ 0.920506  ┆ 0.996105  ┆ 8.0      │\n",
       "└───────────┴───────────┴───────────┴───────────┴───┴───────────┴───────────┴───────────┴──────────┘"
      ]
     },
     "execution_count": 19,
     "metadata": {},
     "output_type": "execute_result"
    }
   ],
   "source": [
    "df.describe()"
   ]
  },
  {
   "cell_type": "code",
   "execution_count": 20,
   "id": "11f1e82a",
   "metadata": {},
   "outputs": [
    {
     "name": "stdout",
     "output_type": "stream",
     "text": [
      "shape: (1, 1)\n",
      "┌────────────┐\n",
      "│ subject_id │\n",
      "│ ---        │\n",
      "│ u32        │\n",
      "╞════════════╡\n",
      "│ 8          │\n",
      "└────────────┘\n"
     ]
    }
   ],
   "source": [
    "uniq_subject = df.select(\n",
    "    pl.col('subject_id').n_unique()\n",
    ").collect()\n",
    "print(uniq_subject)"
   ]
  },
  {
   "cell_type": "code",
   "execution_count": 21,
   "id": "e8c78331",
   "metadata": {},
   "outputs": [
    {
     "data": {
      "text/html": [
       "<div><style>\n",
       ".dataframe > thead > tr,\n",
       ".dataframe > tbody > tr {\n",
       "  text-align: right;\n",
       "  white-space: pre-wrap;\n",
       "}\n",
       "</style>\n",
       "<small>shape: (9, 54)</small><table border=\"1\" class=\"dataframe\"><thead><tr><th>statistic</th><th>timestamp</th><th>handTemperature</th><th>handAcc16_1</th><th>handAcc16_2</th><th>handAcc16_3</th><th>handAcc6_1</th><th>handAcc6_2</th><th>handAcc6_3</th><th>handGyro1</th><th>handGyro2</th><th>handGyro3</th><th>handMagne1</th><th>handMagne2</th><th>handMagne3</th><th>handOrientation1</th><th>handOrientation2</th><th>handOrientation3</th><th>handOrientation4</th><th>chestTemperature</th><th>chestAcc16_1</th><th>chestAcc16_2</th><th>chestAcc16_3</th><th>chestAcc6_1</th><th>chestAcc6_2</th><th>chestAcc6_3</th><th>chestGyro1</th><th>chestGyro2</th><th>chestGyro3</th><th>chestMagne1</th><th>chestMagne2</th><th>chestMagne3</th><th>chestOrientation1</th><th>chestOrientation2</th><th>chestOrientation3</th><th>chestOrientation4</th><th>ankleTemperature</th><th>ankleAcc16_1</th><th>ankleAcc16_2</th><th>ankleAcc16_3</th><th>ankleAcc6_1</th><th>ankleAcc6_2</th><th>ankleAcc6_3</th><th>ankleGyro1</th><th>ankleGyro2</th><th>ankleGyro3</th><th>ankleMagne1</th><th>ankleMagne2</th><th>ankleMagne3</th><th>ankleOrientation1</th><th>ankleOrientation2</th><th>ankleOrientation3</th><th>ankleOrientation4</th><th>subject_id</th></tr><tr><td>str</td><td>f64</td><td>f64</td><td>f64</td><td>f64</td><td>f64</td><td>f64</td><td>f64</td><td>f64</td><td>f64</td><td>f64</td><td>f64</td><td>f64</td><td>f64</td><td>f64</td><td>f64</td><td>f64</td><td>f64</td><td>f64</td><td>f64</td><td>f64</td><td>f64</td><td>f64</td><td>f64</td><td>f64</td><td>f64</td><td>f64</td><td>f64</td><td>f64</td><td>f64</td><td>f64</td><td>f64</td><td>f64</td><td>f64</td><td>f64</td><td>f64</td><td>f64</td><td>f64</td><td>f64</td><td>f64</td><td>f64</td><td>f64</td><td>f64</td><td>f64</td><td>f64</td><td>f64</td><td>f64</td><td>f64</td><td>f64</td><td>f64</td><td>f64</td><td>f64</td><td>f64</td><td>f64</td></tr></thead><tbody><tr><td>&quot;count&quot;</td><td>534601.0</td><td>534601.0</td><td>534601.0</td><td>534601.0</td><td>534601.0</td><td>534601.0</td><td>534601.0</td><td>534601.0</td><td>534601.0</td><td>534601.0</td><td>534601.0</td><td>534601.0</td><td>534601.0</td><td>534601.0</td><td>534601.0</td><td>534601.0</td><td>534601.0</td><td>534601.0</td><td>534601.0</td><td>534601.0</td><td>534601.0</td><td>534601.0</td><td>534601.0</td><td>534601.0</td><td>534601.0</td><td>534601.0</td><td>534601.0</td><td>534601.0</td><td>534601.0</td><td>534601.0</td><td>534601.0</td><td>534601.0</td><td>534601.0</td><td>534601.0</td><td>534601.0</td><td>534601.0</td><td>534601.0</td><td>534601.0</td><td>534601.0</td><td>534601.0</td><td>534601.0</td><td>534601.0</td><td>534601.0</td><td>534601.0</td><td>534601.0</td><td>534601.0</td><td>534601.0</td><td>534601.0</td><td>534601.0</td><td>534601.0</td><td>534601.0</td><td>534601.0</td><td>534601.0</td></tr><tr><td>&quot;null_count&quot;</td><td>0.0</td><td>0.0</td><td>0.0</td><td>0.0</td><td>0.0</td><td>0.0</td><td>0.0</td><td>0.0</td><td>0.0</td><td>0.0</td><td>0.0</td><td>0.0</td><td>0.0</td><td>0.0</td><td>0.0</td><td>0.0</td><td>0.0</td><td>0.0</td><td>0.0</td><td>0.0</td><td>0.0</td><td>0.0</td><td>0.0</td><td>0.0</td><td>0.0</td><td>0.0</td><td>0.0</td><td>0.0</td><td>0.0</td><td>0.0</td><td>0.0</td><td>0.0</td><td>0.0</td><td>0.0</td><td>0.0</td><td>0.0</td><td>0.0</td><td>0.0</td><td>0.0</td><td>0.0</td><td>0.0</td><td>0.0</td><td>0.0</td><td>0.0</td><td>0.0</td><td>0.0</td><td>0.0</td><td>0.0</td><td>0.0</td><td>0.0</td><td>0.0</td><td>0.0</td><td>0.0</td></tr><tr><td>&quot;mean&quot;</td><td>1593.538159</td><td>32.451341</td><td>-4.436413</td><td>3.243565</td><td>4.080092</td><td>-4.376995</td><td>3.219992</td><td>4.263192</td><td>-0.008848</td><td>0.028776</td><td>0.000036</td><td>20.403611</td><td>-10.375186</td><td>-24.587614</td><td>0.618041</td><td>-0.003479</td><td>-0.098099</td><td>-0.069604</td><td>35.869593</td><td>0.504304</td><td>7.646683</td><td>-0.187115</td><td>0.363458</td><td>7.654223</td><td>0.141876</td><td>0.004679</td><td>0.021368</td><td>-0.024229</td><td>7.013021</td><td>-26.331148</td><td>1.213499</td><td>0.601866</td><td>-0.383512</td><td>0.066437</td><td>0.07281</td><td>33.493831</td><td>8.605074</td><td>-0.67171</td><td>-2.71845</td><td>8.561414</td><td>-0.558554</td><td>-2.309807</td><td>0.017752</td><td>-0.031927</td><td>0.002307</td><td>-28.752115</td><td>2.116196</td><td>14.72632</td><td>0.359981</td><td>-0.091075</td><td>0.303649</td><td>-0.173835</td><td>4.558615</td></tr><tr><td>&quot;std&quot;</td><td>1243.906483</td><td>1.750354</td><td>7.035778</td><td>7.199773</td><td>3.816974</td><td>7.042704</td><td>6.842078</td><td>3.807796</td><td>1.155728</td><td>0.923328</td><td>1.610317</td><td>23.856172</td><td>21.969621</td><td>17.592464</td><td>0.295766</td><td>0.355912</td><td>0.315776</td><td>0.534343</td><td>1.503849</td><td>1.535598</td><td>4.809384</td><td>5.35461</td><td>1.528055</td><td>4.821565</td><td>5.355099</td><td>0.3962</td><td>0.525112</td><td>0.303058</td><td>17.167411</td><td>19.718113</td><td>24.21673</td><td>0.302211</td><td>0.284745</td><td>0.432928</td><td>0.347135</td><td>1.082701</td><td>7.039525</td><td>7.784818</td><td>3.960193</td><td>6.44102</td><td>7.44226</td><td>3.402879</td><td>0.957084</td><td>0.617366</td><td>2.031249</td><td>19.265923</td><td>22.202729</td><td>17.865967</td><td>0.300861</td><td>0.558135</td><td>0.343562</td><td>0.465307</td><td>2.318076</td></tr><tr><td>&quot;min&quot;</td><td>37.66</td><td>27.5</td><td>-114.755</td><td>-82.5509</td><td>-73.9497</td><td>-61.2147</td><td>-61.8242</td><td>-61.5771</td><td>-19.6905</td><td>-7.60901</td><td>-14.2647</td><td>-74.6</td><td>-199.52</td><td>-163.766</td><td>0.000003</td><td>-0.998944</td><td>-0.966679</td><td>-0.999186</td><td>32.0625</td><td>-39.2034</td><td>-17.0678</td><td>-37.7546</td><td>-34.204</td><td>-17.4628</td><td>-37.028</td><td>-4.47776</td><td>-4.92635</td><td>-3.97186</td><td>-49.9854</td><td>-122.343</td><td>-66.6847</td><td>0.00001</td><td>-0.995404</td><td>-0.998015</td><td>-0.85988</td><td>30.0</td><td>-82.9011</td><td>-141.035</td><td>-156.179</td><td>-58.4299</td><td>-61.8986</td><td>-62.2729</td><td>-10.0935</td><td>-7.70104</td><td>-14.0196</td><td>-172.865</td><td>-136.951</td><td>-102.716</td><td>0.000003</td><td>-0.954848</td><td>-0.876838</td><td>-0.99704</td><td>1.0</td></tr><tr><td>&quot;25%&quot;</td><td>475.5</td><td>31.3125</td><td>-9.06513</td><td>0.71226</td><td>1.61707</td><td>-8.96727</td><td>0.717536</td><td>1.80657</td><td>-0.148494</td><td>-0.080412</td><td>-0.085873</td><td>4.96908</td><td>-23.5406</td><td>-37.2477</td><td>0.387703</td><td>-0.262928</td><td>-0.347476</td><td>-0.573237</td><td>34.6875</td><td>-0.143365</td><td>4.5862</td><td>-3.51493</td><td>-0.262637</td><td>4.56302</td><td>-3.18245</td><td>-0.058675</td><td>-0.057001</td><td>-0.07706</td><td>-4.54052</td><td>-38.3924</td><td>-13.9513</td><td>0.361523</td><td>-0.621752</td><td>-0.25672</td><td>-0.076283</td><td>32.75</td><td>5.12444</td><td>-3.34978</td><td>-4.0111</td><td>5.08819</td><td>-3.28201</td><td>-3.58869</td><td>-0.06638</td><td>-0.04907</td><td>-0.211924</td><td>-39.6645</td><td>-10.8431</td><td>2.38584</td><td>0.145729</td><td>-0.674639</td><td>0.0071818</td><td>-0.579087</td><td>2.0</td></tr><tr><td>&quot;50%&quot;</td><td>827.61</td><td>32.875</td><td>-5.38942</td><td>3.10302</td><td>4.1647</td><td>-5.3575</td><td>3.13882</td><td>4.4126</td><td>-0.004424</td><td>0.004291</td><td>-0.004447</td><td>22.167</td><td>-12.8369</td><td>-24.4661</td><td>0.643513</td><td>0.0</td><td>-0.09094</td><td>0.0</td><td>35.9375</td><td>0.554744</td><td>9.19143</td><td>-0.2553</td><td>0.412284</td><td>9.13753</td><td>0.0953732</td><td>0.002789</td><td>0.000159</td><td>-0.017109</td><td>3.89497</td><td>-28.3096</td><td>-1.96711</td><td>0.585417</td><td>-0.444694</td><td>0.0384071</td><td>0.093552</td><td>33.8125</td><td>9.37646</td><td>-0.483084</td><td>-2.54446</td><td>9.4063</td><td>-0.409101</td><td>-2.12275</td><td>0.00747</td><td>-0.004729</td><td>0.000451</td><td>-26.3184</td><td>0.0787571</td><td>16.5716</td><td>0.243557</td><td>0.0</td><td>0.323122</td><td>-0.28026</td><td>5.0</td></tr><tr><td>&quot;75%&quot;</td><td>2876.99</td><td>33.8125</td><td>0.36781</td><td>5.53989</td><td>6.84266</td><td>0.413684</td><td>5.57194</td><td>7.12892</td><td>0.125906</td><td>0.0913994</td><td>0.119091</td><td>39.0213</td><td>5.80344</td><td>-12.9508</td><td>0.896845</td><td>0.239822</td><td>0.174113</td><td>0.344574</td><td>37.1875</td><td>1.05051</td><td>9.76298</td><td>1.34277</td><td>0.897802</td><td>9.7823</td><td>1.7333</td><td>0.0629538</td><td>0.0776218</td><td>0.0277451</td><td>15.79</td><td>-19.0707</td><td>18.1341</td><td>0.980651</td><td>-0.104744</td><td>0.476017</td><td>0.333885</td><td>34.375</td><td>9.97642</td><td>1.91786</td><td>-1.08832</td><td>9.97292</td><td>2.05706</td><td>-0.646894</td><td>0.0601263</td><td>0.0481417</td><td>0.0322642</td><td>-14.5564</td><td>19.1736</td><td>25.9145</td><td>0.501023</td><td>0.409401</td><td>0.592794</td><td>0.242434</td><td>7.0</td></tr><tr><td>&quot;max&quot;</td><td>4007.73</td><td>35.25</td><td>60.9126</td><td>155.532</td><td>78.4801</td><td>34.1594</td><td>62.2598</td><td>60.8437</td><td>22.96</td><td>11.8626</td><td>14.3267</td><td>128.824</td><td>93.0448</td><td>90.1855</td><td>1.0</td><td>0.99937</td><td>0.976406</td><td>0.998495</td><td>38.4375</td><td>27.5223</td><td>56.0208</td><td>20.4775</td><td>25.7361</td><td>51.1915</td><td>15.0762</td><td>10.8644</td><td>5.90579</td><td>3.05259</td><td>80.4739</td><td>40.0255</td><td>96.1022</td><td>1.0</td><td>0.823245</td><td>0.99529</td><td>0.827296</td><td>35.0</td><td>157.232</td><td>149.22</td><td>158.872</td><td>61.9449</td><td>62.0348</td><td>44.2312</td><td>12.256</td><td>6.00254</td><td>14.4827</td><td>41.7648</td><td>92.867</td><td>122.521</td><td>1.0</td><td>0.959538</td><td>0.920506</td><td>0.996105</td><td>8.0</td></tr></tbody></table></div>"
      ],
      "text/plain": [
       "shape: (9, 54)\n",
       "┌───────────┬───────────┬───────────┬───────────┬───┬───────────┬───────────┬───────────┬──────────┐\n",
       "│ statistic ┆ timestamp ┆ handTempe ┆ handAcc16 ┆ … ┆ ankleOrie ┆ ankleOrie ┆ ankleOrie ┆ subject_ │\n",
       "│ ---       ┆ ---       ┆ rature    ┆ _1        ┆   ┆ ntation2  ┆ ntation3  ┆ ntation4  ┆ id       │\n",
       "│ str       ┆ f64       ┆ ---       ┆ ---       ┆   ┆ ---       ┆ ---       ┆ ---       ┆ ---      │\n",
       "│           ┆           ┆ f64       ┆ f64       ┆   ┆ f64       ┆ f64       ┆ f64       ┆ f64      │\n",
       "╞═══════════╪═══════════╪═══════════╪═══════════╪═══╪═══════════╪═══════════╪═══════════╪══════════╡\n",
       "│ count     ┆ 534601.0  ┆ 534601.0  ┆ 534601.0  ┆ … ┆ 534601.0  ┆ 534601.0  ┆ 534601.0  ┆ 534601.0 │\n",
       "│ null_coun ┆ 0.0       ┆ 0.0       ┆ 0.0       ┆ … ┆ 0.0       ┆ 0.0       ┆ 0.0       ┆ 0.0      │\n",
       "│ t         ┆           ┆           ┆           ┆   ┆           ┆           ┆           ┆          │\n",
       "│ mean      ┆ 1593.5381 ┆ 32.451341 ┆ -4.436413 ┆ … ┆ -0.091075 ┆ 0.303649  ┆ -0.173835 ┆ 4.558615 │\n",
       "│           ┆ 59        ┆           ┆           ┆   ┆           ┆           ┆           ┆          │\n",
       "│ std       ┆ 1243.9064 ┆ 1.750354  ┆ 7.035778  ┆ … ┆ 0.558135  ┆ 0.343562  ┆ 0.465307  ┆ 2.318076 │\n",
       "│           ┆ 83        ┆           ┆           ┆   ┆           ┆           ┆           ┆          │\n",
       "│ min       ┆ 37.66     ┆ 27.5      ┆ -114.755  ┆ … ┆ -0.954848 ┆ -0.876838 ┆ -0.99704  ┆ 1.0      │\n",
       "│ 25%       ┆ 475.5     ┆ 31.3125   ┆ -9.06513  ┆ … ┆ -0.674639 ┆ 0.0071818 ┆ -0.579087 ┆ 2.0      │\n",
       "│ 50%       ┆ 827.61    ┆ 32.875    ┆ -5.38942  ┆ … ┆ 0.0       ┆ 0.323122  ┆ -0.28026  ┆ 5.0      │\n",
       "│ 75%       ┆ 2876.99   ┆ 33.8125   ┆ 0.36781   ┆ … ┆ 0.409401  ┆ 0.592794  ┆ 0.242434  ┆ 7.0      │\n",
       "│ max       ┆ 4007.73   ┆ 35.25     ┆ 60.9126   ┆ … ┆ 0.959538  ┆ 0.920506  ┆ 0.996105  ┆ 8.0      │\n",
       "└───────────┴───────────┴───────────┴───────────┴───┴───────────┴───────────┴───────────┴──────────┘"
      ]
     },
     "execution_count": 21,
     "metadata": {},
     "output_type": "execute_result"
    }
   ],
   "source": [
    "df_filled = df.with_columns(\n",
    "    pl.all().fill_null(pl.all().mean().over('subject_id'))\n",
    ")\n",
    "\n",
    "df_filled.describe()\n"
   ]
  },
  {
   "cell_type": "code",
   "execution_count": 22,
   "id": "3f2ceaa4",
   "metadata": {},
   "outputs": [
    {
     "data": {
      "text/html": [
       "<div><style>\n",
       ".dataframe > thead > tr,\n",
       ".dataframe > tbody > tr {\n",
       "  text-align: right;\n",
       "  white-space: pre-wrap;\n",
       "}\n",
       "</style>\n",
       "<small>shape: (9, 17)</small><table border=\"1\" class=\"dataframe\"><thead><tr><th>statistic</th><th>timestamp</th><th>subject_id</th><th>handAcc16</th><th>handAcc6</th><th>handGyro</th><th>handMagne</th><th>handOrientation</th><th>chestAcc6</th><th>chestGyro</th><th>chestMagne</th><th>chestOrientation</th><th>ankleAcc16</th><th>ankleAcc6</th><th>ankleGyro</th><th>ankleMagne</th><th>ankleOrientation</th></tr><tr><td>str</td><td>f64</td><td>f64</td><td>f64</td><td>f64</td><td>f64</td><td>f64</td><td>f64</td><td>f64</td><td>f64</td><td>f64</td><td>f64</td><td>f64</td><td>f64</td><td>f64</td><td>f64</td><td>f64</td></tr></thead><tbody><tr><td>&quot;count&quot;</td><td>534601.0</td><td>534601.0</td><td>534601.0</td><td>534601.0</td><td>534601.0</td><td>534601.0</td><td>534601.0</td><td>534601.0</td><td>534601.0</td><td>534601.0</td><td>534601.0</td><td>534601.0</td><td>534601.0</td><td>534601.0</td><td>534601.0</td><td>534601.0</td></tr><tr><td>&quot;null_count&quot;</td><td>0.0</td><td>0.0</td><td>0.0</td><td>0.0</td><td>0.0</td><td>0.0</td><td>0.0</td><td>0.0</td><td>0.0</td><td>0.0</td><td>0.0</td><td>0.0</td><td>0.0</td><td>0.0</td><td>0.0</td><td>0.0</td></tr><tr><td>&quot;mean&quot;</td><td>1593.538159</td><td>4.558615</td><td>11.137382</td><td>11.190965</td><td>1.227208</td><td>48.002762</td><td>10.091224</td><td>10.088597</td><td>0.415722</td><td>42.648195</td><td>0.930531</td><td>12.230407</td><td>11.998622</td><td>1.275832</td><td>43.636276</td><td>0.859949</td></tr><tr><td>&quot;std&quot;</td><td>1243.906483</td><td>2.318076</td><td>6.22225</td><td>5.777233</td><td>1.810035</td><td>13.620251</td><td>3.329911</td><td>3.34948</td><td>0.593971</td><td>13.967384</td><td>0.08768</td><td>7.625412</td><td>6.590257</td><td>1.948516</td><td>18.089514</td><td>0.103133</td></tr><tr><td>&quot;min&quot;</td><td>37.66</td><td>1.0</td><td>0.418703</td><td>0.317664</td><td>0.000614</td><td>15.04628</td><td>0.121532</td><td>0.127027</td><td>0.000448</td><td>12.24347</td><td>0.510497</td><td>0.097642</td><td>0.080547</td><td>0.000589</td><td>4.723596</td><td>0.07689</td></tr><tr><td>&quot;25%&quot;</td><td>475.5</td><td>2.0</td><td>9.60137</td><td>9.682409</td><td>0.046523</td><td>37.258029</td><td>9.485672</td><td>9.667714</td><td>0.049123</td><td>31.625833</td><td>0.884718</td><td>9.86995</td><td>9.824338</td><td>0.039853</td><td>31.789574</td><td>0.790105</td></tr><tr><td>&quot;50%&quot;</td><td>827.61</td><td>5.0</td><td>9.772925</td><td>9.880451</td><td>0.356636</td><td>47.816058</td><td>9.770836</td><td>9.831616</td><td>0.196556</td><td>41.943068</td><td>0.976691</td><td>10.03703</td><td>9.876493</td><td>0.145186</td><td>42.962059</td><td>0.853959</td></tr><tr><td>&quot;75%&quot;</td><td>2876.99</td><td>7.0</td><td>10.744657</td><td>10.780278</td><td>1.774665</td><td>54.870362</td><td>10.133013</td><td>10.050122</td><td>0.552336</td><td>48.682047</td><td>0.995707</td><td>11.275745</td><td>11.166992</td><td>1.825694</td><td>50.115818</td><td>0.960158</td></tr><tr><td>&quot;max&quot;</td><td>4007.73</td><td>8.0</td><td>198.746004</td><td>93.128101</td><td>23.470033</td><td>207.448841</td><td>63.412393</td><td>57.611265</td><td>11.532051</td><td>125.807338</td><td>1.000001</td><td>225.797252</td><td>89.092226</td><td>15.399451</td><td>184.989082</td><td>1.000001</td></tr></tbody></table></div>"
      ],
      "text/plain": [
       "shape: (9, 17)\n",
       "┌───────────┬───────────┬───────────┬───────────┬───┬───────────┬───────────┬───────────┬──────────┐\n",
       "│ statistic ┆ timestamp ┆ subject_i ┆ handAcc16 ┆ … ┆ ankleAcc6 ┆ ankleGyro ┆ ankleMagn ┆ ankleOri │\n",
       "│ ---       ┆ ---       ┆ d         ┆ ---       ┆   ┆ ---       ┆ ---       ┆ e         ┆ entation │\n",
       "│ str       ┆ f64       ┆ ---       ┆ f64       ┆   ┆ f64       ┆ f64       ┆ ---       ┆ ---      │\n",
       "│           ┆           ┆ f64       ┆           ┆   ┆           ┆           ┆ f64       ┆ f64      │\n",
       "╞═══════════╪═══════════╪═══════════╪═══════════╪═══╪═══════════╪═══════════╪═══════════╪══════════╡\n",
       "│ count     ┆ 534601.0  ┆ 534601.0  ┆ 534601.0  ┆ … ┆ 534601.0  ┆ 534601.0  ┆ 534601.0  ┆ 534601.0 │\n",
       "│ null_coun ┆ 0.0       ┆ 0.0       ┆ 0.0       ┆ … ┆ 0.0       ┆ 0.0       ┆ 0.0       ┆ 0.0      │\n",
       "│ t         ┆           ┆           ┆           ┆   ┆           ┆           ┆           ┆          │\n",
       "│ mean      ┆ 1593.5381 ┆ 4.558615  ┆ 11.137382 ┆ … ┆ 11.998622 ┆ 1.275832  ┆ 43.636276 ┆ 0.859949 │\n",
       "│           ┆ 59        ┆           ┆           ┆   ┆           ┆           ┆           ┆          │\n",
       "│ std       ┆ 1243.9064 ┆ 2.318076  ┆ 6.22225   ┆ … ┆ 6.590257  ┆ 1.948516  ┆ 18.089514 ┆ 0.103133 │\n",
       "│           ┆ 83        ┆           ┆           ┆   ┆           ┆           ┆           ┆          │\n",
       "│ min       ┆ 37.66     ┆ 1.0       ┆ 0.418703  ┆ … ┆ 0.080547  ┆ 0.000589  ┆ 4.723596  ┆ 0.07689  │\n",
       "│ 25%       ┆ 475.5     ┆ 2.0       ┆ 9.60137   ┆ … ┆ 9.824338  ┆ 0.039853  ┆ 31.789574 ┆ 0.790105 │\n",
       "│ 50%       ┆ 827.61    ┆ 5.0       ┆ 9.772925  ┆ … ┆ 9.876493  ┆ 0.145186  ┆ 42.962059 ┆ 0.853959 │\n",
       "│ 75%       ┆ 2876.99   ┆ 7.0       ┆ 10.744657 ┆ … ┆ 11.166992 ┆ 1.825694  ┆ 50.115818 ┆ 0.960158 │\n",
       "│ max       ┆ 4007.73   ┆ 8.0       ┆ 198.74600 ┆ … ┆ 89.092226 ┆ 15.399451 ┆ 184.98908 ┆ 1.000001 │\n",
       "│           ┆           ┆           ┆ 4         ┆   ┆           ┆           ┆ 2         ┆          │\n",
       "└───────────┴───────────┴───────────┴───────────┴───┴───────────┴───────────┴───────────┴──────────┘"
      ]
     },
     "execution_count": 22,
     "metadata": {},
     "output_type": "execute_result"
    }
   ],
   "source": [
    "df_filled = df_filled.with_columns(\n",
    "    ((pl.col(\"handAcc16_1\")**2 + pl.col(\"handAcc16_2\")**2 + pl.col(\"handAcc16_3\")**2)**0.5).alias(\"handAcc16\")\n",
    ").with_columns(\n",
    "    ((pl.col(\"handAcc6_1\")**2 + pl.col(\"handAcc6_2\")**2 + pl.col(\"handAcc6_3\")**2)**0.5).alias(\"handAcc6\")\n",
    ").with_columns(\n",
    "    ((pl.col(\"handGyro1\")**2 + pl.col(\"handGyro2\")**2 + pl.col(\"handGyro3\")**2)**0.5).alias(\"handGyro\")\n",
    ").with_columns(\n",
    "    ((pl.col(\"handMagne1\")**2 + pl.col(\"handMagne2\")**2 + pl.col(\"handMagne3\")**2)**0.5).alias(\"handMagne\")\n",
    ").with_columns(\n",
    "    ((pl.col(\"handOrientation1\")**2 + pl.col(\"handOrientation2\")**2 + pl.col(\"handOrientation3\")**2)**0.5).alias(\"handOrientation\")\n",
    ").with_columns(\n",
    "    ((pl.col(\"chestAcc16_1\")**2 + pl.col(\"chestAcc16_2\")**2 + pl.col(\"chestAcc16_3\")**2)**0.5).alias(\"handOrientation\")\n",
    ").with_columns(\n",
    "    ((pl.col(\"chestAcc6_1\")**2 + pl.col(\"chestAcc6_2\")**2 + pl.col(\"chestAcc6_3\")**2)**0.5).alias(\"chestAcc6\")\n",
    ").with_columns(\n",
    "    ((pl.col(\"chestGyro1\")**2 + pl.col(\"chestGyro2\")**2 + pl.col(\"chestGyro3\")**2)**0.5).alias(\"chestGyro\")\n",
    ").with_columns(\n",
    "    ((pl.col(\"chestMagne1\")**2 + pl.col(\"chestMagne2\")**2 + pl.col(\"chestMagne3\")**2)**0.5).alias(\"chestMagne\")\n",
    ").with_columns(\n",
    "    ((pl.col(\"chestOrientation1\")**2 + pl.col(\"chestOrientation2\")**2 + pl.col(\"chestOrientation3\")**2)**0.5).alias(\"chestOrientation\")\n",
    ").with_columns(\n",
    "    ((pl.col(\"ankleAcc16_1\")**2 + pl.col(\"ankleAcc16_2\")**2 + pl.col(\"ankleAcc16_3\")**2)**0.5).alias(\"ankleAcc16\")\n",
    ").with_columns(\n",
    "    ((pl.col(\"ankleAcc6_1\")**2 + pl.col(\"ankleAcc6_2\")**2 + pl.col(\"ankleAcc6_3\")**2)**0.5).alias(\"ankleAcc6\")\n",
    ").with_columns(\n",
    "    ((pl.col(\"ankleGyro1\")**2 + pl.col(\"ankleGyro2\")**2 + pl.col(\"ankleGyro3\")**2)**0.5).alias(\"ankleGyro\")\n",
    ").with_columns(\n",
    "    ((pl.col(\"ankleMagne1\")**2 + pl.col(\"ankleMagne2\")**2 + pl.col(\"ankleMagne3\")**2)**0.5).alias(\"ankleMagne\")\n",
    ").with_columns(\n",
    "    ((pl.col(\"ankleOrientation1\")**2 + pl.col(\"ankleOrientation2\")**2 + pl.col(\"ankleOrientation3\")**2)**0.5).alias(\"ankleOrientation\")\n",
    ").drop(\"handAcc16_1\",\"handAcc16_2\",\"handAcc16_3\",\"handAcc6_1\",\"handAcc6_2\",\"handAcc6_3\",\"handGyro1\",\"handGyro2\",\"handGyro3\",\"handMagne1\",\"handMagne2\",\"handMagne3\",\"handOrientation1\",\"handOrientation2\",\"handOrientation3\",\n",
    "       \"chestAcc16_1\",\"chestAcc16_2\",\"chestAcc16_3\",\"chestAcc6_1\",\"chestAcc6_2\",\"chestAcc6_3\",\"chestGyro1\",\"chestGyro2\",\"chestGyro3\",\"chestMagne1\",\"chestMagne2\",\"chestMagne3\",\"chestOrientation1\",\"chestOrientation2\",\"chestOrientation3\",\n",
    "       \"ankleAcc16_1\",\"ankleAcc16_2\",\"ankleAcc16_3\",\"ankleAcc6_1\",\"ankleAcc6_2\",\"ankleAcc6_3\",\"ankleGyro1\",\"ankleGyro2\",\"ankleGyro3\",\"ankleMagne1\",\"ankleMagne2\",\"ankleMagne3\",\"ankleOrientation1\",\"ankleOrientation2\",\"ankleOrientation3\",\n",
    "        'handTemperature', 'handOrientation4', 'chestTemperature', 'chestOrientation4', 'ankleTemperature', 'ankleOrientation4')\n",
    "\n",
    "df_filled.describe()"
   ]
  },
  {
   "cell_type": "code",
   "execution_count": 23,
   "id": "e296fcf9",
   "metadata": {},
   "outputs": [
    {
     "name": "stdout",
     "output_type": "stream",
     "text": [
      "subject_id\n",
      "5.0    7679\n",
      "8.0    7305\n",
      "6.0    7024\n",
      "1.0    6988\n",
      "2.0    6874\n",
      "4.0    6374\n",
      "7.0    6212\n",
      "3.0    5004\n",
      "Name: count, dtype: int64\n"
     ]
    }
   ],
   "source": [
    "crop = df_filled.collect(streaming=True).to_pandas().groupby(\"subject_id\").sample(frac=0.1, random_state=42)\n",
    "\n",
    "print(crop[\"subject_id\"].value_counts())\n"
   ]
  },
  {
   "cell_type": "code",
   "execution_count": 24,
   "id": "70ce3ebf",
   "metadata": {},
   "outputs": [
    {
     "data": {
      "text/html": [
       "<div>\n",
       "<style scoped>\n",
       "    .dataframe tbody tr th:only-of-type {\n",
       "        vertical-align: middle;\n",
       "    }\n",
       "\n",
       "    .dataframe tbody tr th {\n",
       "        vertical-align: top;\n",
       "    }\n",
       "\n",
       "    .dataframe thead th {\n",
       "        text-align: right;\n",
       "    }\n",
       "</style>\n",
       "<table border=\"1\" class=\"dataframe\">\n",
       "  <thead>\n",
       "    <tr style=\"text-align: right;\">\n",
       "      <th></th>\n",
       "      <th>timestamp</th>\n",
       "      <th>subject_id</th>\n",
       "      <th>handAcc16</th>\n",
       "      <th>handAcc6</th>\n",
       "      <th>handGyro</th>\n",
       "      <th>handMagne</th>\n",
       "      <th>handOrientation</th>\n",
       "      <th>chestAcc6</th>\n",
       "      <th>chestGyro</th>\n",
       "      <th>chestMagne</th>\n",
       "      <th>chestOrientation</th>\n",
       "      <th>ankleAcc16</th>\n",
       "      <th>ankleAcc6</th>\n",
       "      <th>ankleGyro</th>\n",
       "      <th>ankleMagne</th>\n",
       "      <th>ankleOrientation</th>\n",
       "    </tr>\n",
       "  </thead>\n",
       "  <tbody>\n",
       "    <tr>\n",
       "      <th>count</th>\n",
       "      <td>53460.00000</td>\n",
       "      <td>53460.000000</td>\n",
       "      <td>53460.000000</td>\n",
       "      <td>53460.000000</td>\n",
       "      <td>53460.000000</td>\n",
       "      <td>53460.000000</td>\n",
       "      <td>53460.000000</td>\n",
       "      <td>53460.000000</td>\n",
       "      <td>53460.000000</td>\n",
       "      <td>53460.000000</td>\n",
       "      <td>53460.000000</td>\n",
       "      <td>53460.000000</td>\n",
       "      <td>53460.000000</td>\n",
       "      <td>53460.000000</td>\n",
       "      <td>53460.000000</td>\n",
       "      <td>53460.000000</td>\n",
       "    </tr>\n",
       "    <tr>\n",
       "      <th>mean</th>\n",
       "      <td>1590.71922</td>\n",
       "      <td>4.558679</td>\n",
       "      <td>11.127849</td>\n",
       "      <td>11.177856</td>\n",
       "      <td>1.223245</td>\n",
       "      <td>47.999501</td>\n",
       "      <td>10.098333</td>\n",
       "      <td>10.091845</td>\n",
       "      <td>0.415353</td>\n",
       "      <td>42.610770</td>\n",
       "      <td>0.930555</td>\n",
       "      <td>12.162983</td>\n",
       "      <td>11.936467</td>\n",
       "      <td>1.260683</td>\n",
       "      <td>43.657479</td>\n",
       "      <td>0.860063</td>\n",
       "    </tr>\n",
       "    <tr>\n",
       "      <th>std</th>\n",
       "      <td>1243.45107</td>\n",
       "      <td>2.318109</td>\n",
       "      <td>6.187458</td>\n",
       "      <td>5.697813</td>\n",
       "      <td>1.799006</td>\n",
       "      <td>13.766917</td>\n",
       "      <td>3.324145</td>\n",
       "      <td>3.341398</td>\n",
       "      <td>0.594238</td>\n",
       "      <td>14.001818</td>\n",
       "      <td>0.087767</td>\n",
       "      <td>7.468043</td>\n",
       "      <td>6.457040</td>\n",
       "      <td>1.934709</td>\n",
       "      <td>18.259805</td>\n",
       "      <td>0.102954</td>\n",
       "    </tr>\n",
       "    <tr>\n",
       "      <th>min</th>\n",
       "      <td>38.06000</td>\n",
       "      <td>1.000000</td>\n",
       "      <td>0.516622</td>\n",
       "      <td>0.398713</td>\n",
       "      <td>0.001655</td>\n",
       "      <td>15.315088</td>\n",
       "      <td>0.272248</td>\n",
       "      <td>0.290155</td>\n",
       "      <td>0.000882</td>\n",
       "      <td>12.243470</td>\n",
       "      <td>0.541505</td>\n",
       "      <td>0.574481</td>\n",
       "      <td>0.080547</td>\n",
       "      <td>0.000589</td>\n",
       "      <td>4.723596</td>\n",
       "      <td>0.095801</td>\n",
       "    </tr>\n",
       "    <tr>\n",
       "      <th>25%</th>\n",
       "      <td>474.28000</td>\n",
       "      <td>2.000000</td>\n",
       "      <td>9.601450</td>\n",
       "      <td>9.681041</td>\n",
       "      <td>0.045988</td>\n",
       "      <td>37.222274</td>\n",
       "      <td>9.488049</td>\n",
       "      <td>9.668458</td>\n",
       "      <td>0.048923</td>\n",
       "      <td>31.526628</td>\n",
       "      <td>0.884312</td>\n",
       "      <td>9.867673</td>\n",
       "      <td>9.823783</td>\n",
       "      <td>0.039641</td>\n",
       "      <td>31.722536</td>\n",
       "      <td>0.790936</td>\n",
       "    </tr>\n",
       "    <tr>\n",
       "      <th>50%</th>\n",
       "      <td>825.38000</td>\n",
       "      <td>5.000000</td>\n",
       "      <td>9.771926</td>\n",
       "      <td>9.878993</td>\n",
       "      <td>0.358078</td>\n",
       "      <td>47.771416</td>\n",
       "      <td>9.773723</td>\n",
       "      <td>9.831704</td>\n",
       "      <td>0.193007</td>\n",
       "      <td>41.942898</td>\n",
       "      <td>0.977377</td>\n",
       "      <td>10.036470</td>\n",
       "      <td>9.875446</td>\n",
       "      <td>0.143882</td>\n",
       "      <td>42.877635</td>\n",
       "      <td>0.854101</td>\n",
       "    </tr>\n",
       "    <tr>\n",
       "      <th>75%</th>\n",
       "      <td>2876.68750</td>\n",
       "      <td>7.000000</td>\n",
       "      <td>10.723647</td>\n",
       "      <td>10.771508</td>\n",
       "      <td>1.781224</td>\n",
       "      <td>54.884632</td>\n",
       "      <td>10.134878</td>\n",
       "      <td>10.046835</td>\n",
       "      <td>0.549542</td>\n",
       "      <td>48.676746</td>\n",
       "      <td>0.995725</td>\n",
       "      <td>11.239422</td>\n",
       "      <td>11.126831</td>\n",
       "      <td>1.799817</td>\n",
       "      <td>50.144478</td>\n",
       "      <td>0.960095</td>\n",
       "    </tr>\n",
       "    <tr>\n",
       "      <th>max</th>\n",
       "      <td>4007.55000</td>\n",
       "      <td>8.000000</td>\n",
       "      <td>159.452654</td>\n",
       "      <td>88.225965</td>\n",
       "      <td>17.506398</td>\n",
       "      <td>207.448841</td>\n",
       "      <td>53.310397</td>\n",
       "      <td>57.611265</td>\n",
       "      <td>9.315767</td>\n",
       "      <td>125.762065</td>\n",
       "      <td>1.000000</td>\n",
       "      <td>207.293870</td>\n",
       "      <td>83.328136</td>\n",
       "      <td>12.522294</td>\n",
       "      <td>181.853495</td>\n",
       "      <td>1.000000</td>\n",
       "    </tr>\n",
       "  </tbody>\n",
       "</table>\n",
       "</div>"
      ],
      "text/plain": [
       "         timestamp    subject_id     handAcc16      handAcc6      handGyro  \\\n",
       "count  53460.00000  53460.000000  53460.000000  53460.000000  53460.000000   \n",
       "mean    1590.71922      4.558679     11.127849     11.177856      1.223245   \n",
       "std     1243.45107      2.318109      6.187458      5.697813      1.799006   \n",
       "min       38.06000      1.000000      0.516622      0.398713      0.001655   \n",
       "25%      474.28000      2.000000      9.601450      9.681041      0.045988   \n",
       "50%      825.38000      5.000000      9.771926      9.878993      0.358078   \n",
       "75%     2876.68750      7.000000     10.723647     10.771508      1.781224   \n",
       "max     4007.55000      8.000000    159.452654     88.225965     17.506398   \n",
       "\n",
       "          handMagne  handOrientation     chestAcc6     chestGyro  \\\n",
       "count  53460.000000     53460.000000  53460.000000  53460.000000   \n",
       "mean      47.999501        10.098333     10.091845      0.415353   \n",
       "std       13.766917         3.324145      3.341398      0.594238   \n",
       "min       15.315088         0.272248      0.290155      0.000882   \n",
       "25%       37.222274         9.488049      9.668458      0.048923   \n",
       "50%       47.771416         9.773723      9.831704      0.193007   \n",
       "75%       54.884632        10.134878     10.046835      0.549542   \n",
       "max      207.448841        53.310397     57.611265      9.315767   \n",
       "\n",
       "         chestMagne  chestOrientation    ankleAcc16     ankleAcc6  \\\n",
       "count  53460.000000      53460.000000  53460.000000  53460.000000   \n",
       "mean      42.610770          0.930555     12.162983     11.936467   \n",
       "std       14.001818          0.087767      7.468043      6.457040   \n",
       "min       12.243470          0.541505      0.574481      0.080547   \n",
       "25%       31.526628          0.884312      9.867673      9.823783   \n",
       "50%       41.942898          0.977377     10.036470      9.875446   \n",
       "75%       48.676746          0.995725     11.239422     11.126831   \n",
       "max      125.762065          1.000000    207.293870     83.328136   \n",
       "\n",
       "          ankleGyro    ankleMagne  ankleOrientation  \n",
       "count  53460.000000  53460.000000      53460.000000  \n",
       "mean       1.260683     43.657479          0.860063  \n",
       "std        1.934709     18.259805          0.102954  \n",
       "min        0.000589      4.723596          0.095801  \n",
       "25%        0.039641     31.722536          0.790936  \n",
       "50%        0.143882     42.877635          0.854101  \n",
       "75%        1.799817     50.144478          0.960095  \n",
       "max       12.522294    181.853495          1.000000  "
      ]
     },
     "execution_count": 24,
     "metadata": {},
     "output_type": "execute_result"
    }
   ],
   "source": [
    "crop.describe()"
   ]
  },
  {
   "cell_type": "code",
   "execution_count": 25,
   "id": "2ac00ddd",
   "metadata": {},
   "outputs": [
    {
     "name": "stdout",
     "output_type": "stream",
     "text": [
      "pair: 1=handAcc16 and 2=handAcc6 corr=0.9451558356934527\n",
      "pair: 1=handOrientation and 2=chestAcc6 corr=0.9669221249957222\n",
      "{'handAcc6', 'chestAcc6'}\n"
     ]
    }
   ],
   "source": [
    "features = crop.drop(columns=['subject_id'])\n",
    "\n",
    "corr_matrix = features.corr()\n",
    "\n",
    "threshold = 0.9\n",
    "to_drop = set()\n",
    "\n",
    "for i, col1 in enumerate(features.columns):\n",
    "    for j, col2 in enumerate(features.columns):\n",
    "        if i < j and abs(corr_matrix.iloc[i, j]) > threshold:\n",
    "            print(f'pair: 1={col1} and 2={col2} corr={abs(corr_matrix.iloc[i, j])}')\n",
    "            to_drop.add(col2)\n",
    "\n",
    "print(to_drop)"
   ]
  },
  {
   "cell_type": "code",
   "execution_count": 26,
   "id": "73d493fe",
   "metadata": {},
   "outputs": [
    {
     "data": {
      "text/html": [
       "<div>\n",
       "<style scoped>\n",
       "    .dataframe tbody tr th:only-of-type {\n",
       "        vertical-align: middle;\n",
       "    }\n",
       "\n",
       "    .dataframe tbody tr th {\n",
       "        vertical-align: top;\n",
       "    }\n",
       "\n",
       "    .dataframe thead th {\n",
       "        text-align: right;\n",
       "    }\n",
       "</style>\n",
       "<table border=\"1\" class=\"dataframe\">\n",
       "  <thead>\n",
       "    <tr style=\"text-align: right;\">\n",
       "      <th></th>\n",
       "      <th>timestamp</th>\n",
       "      <th>handAcc16</th>\n",
       "      <th>handGyro</th>\n",
       "      <th>handMagne</th>\n",
       "      <th>handOrientation</th>\n",
       "      <th>chestGyro</th>\n",
       "      <th>chestMagne</th>\n",
       "      <th>chestOrientation</th>\n",
       "      <th>ankleAcc16</th>\n",
       "      <th>ankleAcc6</th>\n",
       "      <th>ankleGyro</th>\n",
       "      <th>ankleMagne</th>\n",
       "      <th>ankleOrientation</th>\n",
       "    </tr>\n",
       "  </thead>\n",
       "  <tbody>\n",
       "    <tr>\n",
       "      <th>count</th>\n",
       "      <td>53460.00000</td>\n",
       "      <td>53460.000000</td>\n",
       "      <td>53460.000000</td>\n",
       "      <td>53460.000000</td>\n",
       "      <td>53460.000000</td>\n",
       "      <td>53460.000000</td>\n",
       "      <td>53460.000000</td>\n",
       "      <td>53460.000000</td>\n",
       "      <td>53460.000000</td>\n",
       "      <td>53460.000000</td>\n",
       "      <td>53460.000000</td>\n",
       "      <td>53460.000000</td>\n",
       "      <td>53460.000000</td>\n",
       "    </tr>\n",
       "    <tr>\n",
       "      <th>mean</th>\n",
       "      <td>1590.71922</td>\n",
       "      <td>11.127849</td>\n",
       "      <td>1.223245</td>\n",
       "      <td>47.999501</td>\n",
       "      <td>10.098333</td>\n",
       "      <td>0.415353</td>\n",
       "      <td>42.610770</td>\n",
       "      <td>0.930555</td>\n",
       "      <td>12.162983</td>\n",
       "      <td>11.936467</td>\n",
       "      <td>1.260683</td>\n",
       "      <td>43.657479</td>\n",
       "      <td>0.860063</td>\n",
       "    </tr>\n",
       "    <tr>\n",
       "      <th>std</th>\n",
       "      <td>1243.45107</td>\n",
       "      <td>6.187458</td>\n",
       "      <td>1.799006</td>\n",
       "      <td>13.766917</td>\n",
       "      <td>3.324145</td>\n",
       "      <td>0.594238</td>\n",
       "      <td>14.001818</td>\n",
       "      <td>0.087767</td>\n",
       "      <td>7.468043</td>\n",
       "      <td>6.457040</td>\n",
       "      <td>1.934709</td>\n",
       "      <td>18.259805</td>\n",
       "      <td>0.102954</td>\n",
       "    </tr>\n",
       "    <tr>\n",
       "      <th>min</th>\n",
       "      <td>38.06000</td>\n",
       "      <td>0.516622</td>\n",
       "      <td>0.001655</td>\n",
       "      <td>15.315088</td>\n",
       "      <td>0.272248</td>\n",
       "      <td>0.000882</td>\n",
       "      <td>12.243470</td>\n",
       "      <td>0.541505</td>\n",
       "      <td>0.574481</td>\n",
       "      <td>0.080547</td>\n",
       "      <td>0.000589</td>\n",
       "      <td>4.723596</td>\n",
       "      <td>0.095801</td>\n",
       "    </tr>\n",
       "    <tr>\n",
       "      <th>25%</th>\n",
       "      <td>474.28000</td>\n",
       "      <td>9.601450</td>\n",
       "      <td>0.045988</td>\n",
       "      <td>37.222274</td>\n",
       "      <td>9.488049</td>\n",
       "      <td>0.048923</td>\n",
       "      <td>31.526628</td>\n",
       "      <td>0.884312</td>\n",
       "      <td>9.867673</td>\n",
       "      <td>9.823783</td>\n",
       "      <td>0.039641</td>\n",
       "      <td>31.722536</td>\n",
       "      <td>0.790936</td>\n",
       "    </tr>\n",
       "    <tr>\n",
       "      <th>50%</th>\n",
       "      <td>825.38000</td>\n",
       "      <td>9.771926</td>\n",
       "      <td>0.358078</td>\n",
       "      <td>47.771416</td>\n",
       "      <td>9.773723</td>\n",
       "      <td>0.193007</td>\n",
       "      <td>41.942898</td>\n",
       "      <td>0.977377</td>\n",
       "      <td>10.036470</td>\n",
       "      <td>9.875446</td>\n",
       "      <td>0.143882</td>\n",
       "      <td>42.877635</td>\n",
       "      <td>0.854101</td>\n",
       "    </tr>\n",
       "    <tr>\n",
       "      <th>75%</th>\n",
       "      <td>2876.68750</td>\n",
       "      <td>10.723647</td>\n",
       "      <td>1.781224</td>\n",
       "      <td>54.884632</td>\n",
       "      <td>10.134878</td>\n",
       "      <td>0.549542</td>\n",
       "      <td>48.676746</td>\n",
       "      <td>0.995725</td>\n",
       "      <td>11.239422</td>\n",
       "      <td>11.126831</td>\n",
       "      <td>1.799817</td>\n",
       "      <td>50.144478</td>\n",
       "      <td>0.960095</td>\n",
       "    </tr>\n",
       "    <tr>\n",
       "      <th>max</th>\n",
       "      <td>4007.55000</td>\n",
       "      <td>159.452654</td>\n",
       "      <td>17.506398</td>\n",
       "      <td>207.448841</td>\n",
       "      <td>53.310397</td>\n",
       "      <td>9.315767</td>\n",
       "      <td>125.762065</td>\n",
       "      <td>1.000000</td>\n",
       "      <td>207.293870</td>\n",
       "      <td>83.328136</td>\n",
       "      <td>12.522294</td>\n",
       "      <td>181.853495</td>\n",
       "      <td>1.000000</td>\n",
       "    </tr>\n",
       "  </tbody>\n",
       "</table>\n",
       "</div>"
      ],
      "text/plain": [
       "         timestamp     handAcc16      handGyro     handMagne  handOrientation  \\\n",
       "count  53460.00000  53460.000000  53460.000000  53460.000000     53460.000000   \n",
       "mean    1590.71922     11.127849      1.223245     47.999501        10.098333   \n",
       "std     1243.45107      6.187458      1.799006     13.766917         3.324145   \n",
       "min       38.06000      0.516622      0.001655     15.315088         0.272248   \n",
       "25%      474.28000      9.601450      0.045988     37.222274         9.488049   \n",
       "50%      825.38000      9.771926      0.358078     47.771416         9.773723   \n",
       "75%     2876.68750     10.723647      1.781224     54.884632        10.134878   \n",
       "max     4007.55000    159.452654     17.506398    207.448841        53.310397   \n",
       "\n",
       "          chestGyro    chestMagne  chestOrientation    ankleAcc16  \\\n",
       "count  53460.000000  53460.000000      53460.000000  53460.000000   \n",
       "mean       0.415353     42.610770          0.930555     12.162983   \n",
       "std        0.594238     14.001818          0.087767      7.468043   \n",
       "min        0.000882     12.243470          0.541505      0.574481   \n",
       "25%        0.048923     31.526628          0.884312      9.867673   \n",
       "50%        0.193007     41.942898          0.977377     10.036470   \n",
       "75%        0.549542     48.676746          0.995725     11.239422   \n",
       "max        9.315767    125.762065          1.000000    207.293870   \n",
       "\n",
       "          ankleAcc6     ankleGyro    ankleMagne  ankleOrientation  \n",
       "count  53460.000000  53460.000000  53460.000000      53460.000000  \n",
       "mean      11.936467      1.260683     43.657479          0.860063  \n",
       "std        6.457040      1.934709     18.259805          0.102954  \n",
       "min        0.080547      0.000589      4.723596          0.095801  \n",
       "25%        9.823783      0.039641     31.722536          0.790936  \n",
       "50%        9.875446      0.143882     42.877635          0.854101  \n",
       "75%       11.126831      1.799817     50.144478          0.960095  \n",
       "max       83.328136     12.522294    181.853495          1.000000  "
      ]
     },
     "execution_count": 26,
     "metadata": {},
     "output_type": "execute_result"
    }
   ],
   "source": [
    "features = features.drop(columns=to_drop)\n",
    "features.describe()"
   ]
  },
  {
   "cell_type": "code",
   "execution_count": 27,
   "id": "1aa79e2c",
   "metadata": {},
   "outputs": [
    {
     "data": {
      "image/png": "[encoded data removed]",
      "text/plain": [
       "<Figure size 640x480 with 1 Axes>"
      ]
     },
     "metadata": {},
     "output_type": "display_data"
    }
   ],
   "source": [
    "import matplotlib.pyplot as plt\n",
    "from sklearn.cluster import KMeans\n",
    "\n",
    "# Создадим вектор признаков\n",
    "X = features\n",
    "\n",
    "# Считаем WCSS для разных K\n",
    "wcss = []\n",
    "K_values = range(1, 15)\n",
    "\n",
    "for k in K_values:\n",
    "    kmeans = KMeans(n_clusters=k, random_state=42)\n",
    "    kmeans.fit(X)\n",
    "    wcss.append(kmeans.inertia_)  # inertia_ -- сумма квадратов расстояний точек до центроидов\n",
    "\n",
    "# Строим график\n",
    "plt.plot(K_values, wcss, marker='o', linestyle='-')\n",
    "plt.xlabel(\"Число кластеров (K)\")\n",
    "plt.ylabel(\"WCSS\")\n",
    "plt.title(\"Метод локтя для выбора K\")\n",
    "plt.show()"
   ]
  },
  {
   "cell_type": "code",
   "execution_count": 28,
   "id": "d43d2ef4",
   "metadata": {},
   "outputs": [
    {
     "name": "stdout",
     "output_type": "stream",
     "text": [
      "Score KMeans for K=3: 0.7774898713945191\n",
      "Score KMeans for K=4: 0.6507557274947835\n",
      "Score KMeans for K=5: 0.6535277884266916\n"
     ]
    }
   ],
   "source": [
    "for i in [3,4,5]:\n",
    "    kmeans = KMeans(n_clusters=i, random_state=42, n_init=10)\n",
    "    kmeans.fit(X)\n",
    "    clusters_kmean = kmeans.predict(X)\n",
    "\n",
    "    score = silhouette_score(X, clusters_kmean)\n",
    "    print(f'Score KMeans for K={i}: {score}')"
   ]
  },
  {
   "cell_type": "code",
   "execution_count": 29,
   "id": "c232af26",
   "metadata": {},
   "outputs": [],
   "source": [
    "from sklearn.preprocessing import MinMaxScaler, StandardScaler\n",
    "\n",
    "std = MinMaxScaler()\n",
    "X_std = std.fit_transform(features)"
   ]
  },
  {
   "cell_type": "code",
   "execution_count": 32,
   "id": "64ac4e3c",
   "metadata": {},
   "outputs": [
    {
     "data": {
      "image/png": "[encoded data removed]",
      "text/plain": [
       "<Figure size 640x480 with 1 Axes>"
      ]
     },
     "metadata": {},
     "output_type": "display_data"
    }
   ],
   "source": [
    "from sklearn.neighbors import NearestNeighbors\n",
    "import numpy as np\n",
    "\n",
    "# Ищем расстояния до 5 ближайших соседей\n",
    "nbrs = NearestNeighbors(n_neighbors=3, n_jobs=10).fit(X_std)\n",
    "distances, _ = nbrs.kneighbors(X_std)\n",
    "\n",
    "# Берем 5-е расстояние, сортируем и строим график\n",
    "distances = np.sort(distances[:, 2])\n",
    "plt.plot(distances)\n",
    "plt.xlabel(\"Точки данных\")\n",
    "plt.ylabel(\"Расстояние до 5 ближайшего соседа\")\n",
    "plt.title(\"Выбор eps для DBSCAN\")\n",
    "plt.show()\n"
   ]
  },
  {
   "cell_type": "code",
   "execution_count": 33,
   "id": "be98f382",
   "metadata": {},
   "outputs": [],
   "source": [
    "from sklearn.cluster import DBSCAN\n",
    "\n",
    "# Запускаем DBSCAN\n",
    "dbscan = DBSCAN(eps=0.15, min_samples=3, n_jobs=10)\n",
    "\n",
    "clusters_dbscan = dbscan.fit_predict(X_std)"
   ]
  },
  {
   "cell_type": "code",
   "execution_count": 34,
   "id": "b59a9b73",
   "metadata": {},
   "outputs": [
    {
     "name": "stdout",
     "output_type": "stream",
     "text": [
      "Score DBSCAN: -0.14200748137783445\n"
     ]
    }
   ],
   "source": [
    "score_dbscan = silhouette_score(X_std, clusters_dbscan)\n",
    "print(f'Score DBSCAN: {score_dbscan}')"
   ]
  },
  {
   "cell_type": "code",
   "execution_count": 35,
   "id": "96e7b163",
   "metadata": {},
   "outputs": [
    {
     "data": {
      "image/png": "[encoded data removed]",
      "text/plain": [
       "<Figure size 1000x500 with 1 Axes>"
      ]
     },
     "metadata": {},
     "output_type": "display_data"
    }
   ],
   "source": [
    "import numpy as np\n",
    "import pandas as pd\n",
    "import matplotlib.pyplot as plt\n",
    "from scipy.cluster.hierarchy import dendrogram, linkage\n",
    "from sklearn.cluster import AgglomerativeClustering\n",
    "\n",
    "# Строим матрицу расстояний (linkage matrix)\n",
    "Z = linkage(X_std, method=\"ward\")  # Метод Уорда для минимизации дисперсии\n",
    "\n",
    "# Строим дендрограмму\n",
    "plt.figure(figsize=(10, 5))\n",
    "dendrogram(Z)\n",
    "plt.title(\"Дендрограмма для агломеративной кластеризации\")\n",
    "plt.xlabel(\"Объекты\")\n",
    "plt.ylabel(\"Расстояние между кластерами\")\n",
    "plt.show()"
   ]
  },
  {
   "cell_type": "code",
   "execution_count": null,
   "id": "08d9a621",
   "metadata": {},
   "outputs": [],
   "source": [
    "for i in [3,4,5]:\n",
    "    agg_clustering = AgglomerativeClustering(n_clusters=i, linkage=\"ward\")\n",
    "\n",
    "    clusters_agg = agg_clustering.fit_predict(X)\n",
    "\n",
    "    score = silhouette_score(X, clusters_agg)\n",
    "    print(f'Score Agg for C={i}: {score}')\n"
   ]
  },
  {
   "cell_type": "code",
   "execution_count": null,
   "id": "7c921c0e",
   "metadata": {},
   "outputs": [],
   "source": [
    "data = df_filled.collect().to_pandas()\n",
    "data.info()"
   ]
  },
  {
   "cell_type": "code",
   "execution_count": null,
   "id": "87d0ebbc",
   "metadata": {},
   "outputs": [],
   "source": [
    "X = data.drop(columns=['subject_id'])\n",
    "model = KMeans(n_clusters=3, random_state=42, n_init=10)\n",
    "model.fit(X)\n",
    "clusters = model.predict(X)\n",
    "\n",
    "df_result = data\n",
    "df_result['cluster'] = clusters\n",
    "df_result['activityID'] = -1\n",
    "unique_clusters = sorted(df_result['cluster'].unique())\n",
    "print(unique_clusters)\n",
    "for new_label, old_label in enumerate(unique_clusters, start=1):\n",
    "    df_result.loc[df_result['cluster'] == old_label, 'activityID'] = new_label\n",
    "\n",
    "# Создание файла submission.csv\n",
    "submission = df_result[['activityID']].reset_index()\n",
    "submission.columns = ['Index', 'activityID']\n",
    "submission.to_csv('submission_kmean_1.csv', index=False)"
   ]
  },
  {
   "cell_type": "code",
   "execution_count": null,
   "id": "967c33dd",
   "metadata": {},
   "outputs": [],
   "source": [
    "df_result.head()"
   ]
  },
  {
   "cell_type": "code",
   "execution_count": null,
   "id": "245b47e1",
   "metadata": {},
   "outputs": [],
   "source": [
    "submission.head()"
   ]
  },
  {
   "cell_type": "code",
   "execution_count": null,
   "id": "db70876f",
   "metadata": {},
   "outputs": [],
   "source": [
    "X.describe()"
   ]
  },
  {
   "cell_type": "code",
   "execution_count": null,
   "id": "e0da8e80",
   "metadata": {},
   "outputs": [],
   "source": [
    "std = MinMaxScaler()\n",
    "X_std = std.fit_transform(X)\n",
    "print(X_std)"
   ]
  },
  {
   "cell_type": "code",
   "execution_count": null,
   "id": "d40c2254",
   "metadata": {},
   "outputs": [],
   "source": [
    "model = KMeans(n_clusters=3, random_state=42, n_init=10)\n",
    "model.fit(X)\n",
    "clusters = model.predict(X)\n",
    "\n",
    "df_result = data\n",
    "df_result['cluster'] = clusters\n",
    "df_result['activityID'] = -1\n",
    "unique_clusters = sorted(df_result['cluster'].unique())\n",
    "print(unique_clusters)\n",
    "for new_label, old_label in enumerate(unique_clusters, start=1):\n",
    "    df_result.loc[df_result['cluster'] == old_label, 'activityID'] = new_label\n",
    "\n",
    "# Создание файла submission.csv\n",
    "submission = df_result[['activityID']].reset_index()\n",
    "submission.columns = ['Index', 'activityID']\n",
    "submission.to_csv('submission_kmean_2.csv', index=False)"
   ]
  },
  {
   "cell_type": "code",
   "execution_count": null,
   "id": "c44f5ec1",
   "metadata": {},
   "outputs": [],
   "source": [
    "df_result.head(10)"
   ]
  },
  {
   "cell_type": "code",
   "execution_count": null,
   "id": "204464d3",
   "metadata": {},
   "outputs": [],
   "source": [
    "df_result.corr()"
   ]
  },
  {
   "cell_type": "code",
   "execution_count": null,
   "id": "694434a5",
   "metadata": {},
   "outputs": [],
   "source": [
    "submission.head(10)"
   ]
  },
  {
   "cell_type": "code",
   "execution_count": null,
   "id": "0372bc26",
   "metadata": {},
   "outputs": [],
   "source": [
    "\n",
    "super = pd.read_csv('submission_kmean_4.csv')\n",
    "X = df_cleared.drop(columns=['subject_id'])\n",
    "\n",
    "\n",
    "for i in range(1, 200):\n",
    "# из преобразованного датасета удаляем идентификатор субъекта\n",
    "\n",
    "    # инициализируем модель\n",
    "    model = KMeans(n_clusters=5, random_state=i)\n",
    "\n",
    "    # делаем кластеризацию\n",
    "    clusters = model.fit_predict(X)\n",
    "    # инициализируем конечный датафрейм\n",
    "    df_result = pd.DataFrame()\n",
    "    # добавляем колонку с кластерами\n",
    "    df_result['cluster'] = clusters\n",
    "    # добавляем колонку, в которую будем сохранять идентификатор активности\n",
    "    df_result['activityID'] = -1\n",
    "\n",
    "    # справочник соответствия номера кластера и идентификатора активности\n",
    "    dict = {}\n",
    "    # переменная для хранения идентификатора для следующей неизвестной активности\n",
    "    activityID = 1\n",
    "\n",
    "    for index, row in df_result.iterrows():\n",
    "        if row['cluster'] in dict.keys():\n",
    "            df_result.loc[index, 'activityID'] = dict[row['cluster']]\n",
    "        else:\n",
    "            dict[row['cluster']] = activityID\n",
    "            df_result.loc[index, 'activityID'] = activityID\n",
    "            activityID += 1\n",
    "\n",
    "    df_result['dev'] = (df_result['activityID'] - super['activityID'])\n",
    "    res = (df_result['dev'] == 0).sum()\n",
    "    print(f'res for {i} = {res}')\n",
    "    if res == 0:\n",
    "        break"
   ]
  }
 ],
 "metadata": {
  "kernelspec": {
   "display_name": "base",
   "language": "python",
   "name": "python3"
  },
  "language_info": {
   "codemirror_mode": {
    "name": "ipython",
    "version": 3
   },
   "file_extension": ".py",
   "mimetype": "text/x-python",
   "name": "python",
   "nbconvert_exporter": "python",
   "pygments_lexer": "ipython3",
   "version": "3.12.4"
  }
 },
 "nbformat": 4,
 "nbformat_minor": 5
}
